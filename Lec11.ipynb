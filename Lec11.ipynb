{
  "nbformat": 4,
  "nbformat_minor": 0,
  "metadata": {
    "colab": {
      "provenance": [],
      "authorship_tag": "ABX9TyMjHtWNWI+AhrrWzDC36wW4"
    },
    "kernelspec": {
      "name": "python3",
      "display_name": "Python 3"
    },
    "language_info": {
      "name": "python"
    }
  },
  "cells": [
    {
      "cell_type": "code",
      "execution_count": null,
      "metadata": {
        "id": "yQq7gKvS1f38"
      },
      "outputs": [],
      "source": [
        "from tensorflow.keras.datasets import imdb\n",
        "\n",
        "number_of_words = 10000\n",
        "(X_train, y_train), (X_test, y_test) = imdb.load_data(num_words=number_of_words)\n",
        "\n",
        "X_train.shape\n",
        "y_train.shape\n",
        "\n",
        "y_test[8]\n",
        "\n",
        "%pprint\n",
        "\n",
        "X_train[123]"
      ]
    },
    {
      "cell_type": "code",
      "source": [
        "word_to_index = imdb.get_word_index()"
      ],
      "metadata": {
        "colab": {
          "base_uri": "https://localhost:8080/"
        },
        "id": "tMrYVcA-2e_S",
        "outputId": "9410fd27-e8e7-43b2-8ac3-274190add8af"
      },
      "execution_count": 8,
      "outputs": [
        {
          "output_type": "stream",
          "name": "stdout",
          "text": [
            "Downloading data from https://storage.googleapis.com/tensorflow/tf-keras-datasets/imdb_word_index.json\n",
            "1641221/1641221 [==============================] - 1s 0us/step\n"
          ]
        }
      ]
    },
    {
      "cell_type": "code",
      "source": [
        "word_to_index['bad']"
      ],
      "metadata": {
        "colab": {
          "base_uri": "https://localhost:8080/"
        },
        "id": "RzPPGSY92hXz",
        "outputId": "84fc0635-a32c-439e-ea26-d03a959d588c"
      },
      "execution_count": 12,
      "outputs": [
        {
          "output_type": "execute_result",
          "data": {
            "text/plain": [
              "75"
            ]
          },
          "metadata": {},
          "execution_count": 12
        }
      ]
    },
    {
      "cell_type": "code",
      "source": [
        "index_to_word = \\\n",
        " {index: word for (word, index) in word_to_index.items()}\n"
      ],
      "metadata": {
        "id": "blu4srlB2oCZ"
      },
      "execution_count": 14,
      "outputs": []
    },
    {
      "cell_type": "code",
      "source": [
        "[index_to_word[i] for i in range(1, 51)]\n",
        "' '.join([index_to_word.get(i - 3, '?') for i in X_train[123]])"
      ],
      "metadata": {
        "colab": {
          "base_uri": "https://localhost:8080/",
          "height": 53
        },
        "id": "a2wDaM0C2u87",
        "outputId": "54132234-4894-44ee-afcd-c1874e9dfb62"
      },
      "execution_count": 17,
      "outputs": [
        {
          "output_type": "execute_result",
          "data": {
            "text/plain": [
              "'? beautiful and touching movie rich colors great settings good acting and one of the most charming movies i have seen in a while i never saw such an interesting setting when i was in china my wife liked it so much she asked me to ? on and rate it so other would enjoy too'"
            ],
            "application/vnd.google.colaboratory.intrinsic+json": {
              "type": "string"
            }
          },
          "metadata": {},
          "execution_count": 17
        }
      ]
    },
    {
      "cell_type": "code",
      "source": [
        "y_train[123]"
      ],
      "metadata": {
        "colab": {
          "base_uri": "https://localhost:8080/"
        },
        "id": "tJAhtJMl26EC",
        "outputId": "b32d48cf-c385-4e37-a393-d9f8090a2cad"
      },
      "execution_count": 18,
      "outputs": [
        {
          "output_type": "execute_result",
          "data": {
            "text/plain": [
              "1"
            ]
          },
          "metadata": {},
          "execution_count": 18
        }
      ]
    },
    {
      "cell_type": "markdown",
      "source": [
        "Підготовка даних"
      ],
      "metadata": {
        "id": "jwyKgg8w3ANZ"
      }
    },
    {
      "cell_type": "code",
      "source": [
        "words_per_review = 200\n",
        "from tensorflow.keras.preprocessing.sequence import pad_sequences\n",
        "X_train = pad_sequences(X_train, maxlen=words_per_review)\n",
        "X_train.shape"
      ],
      "metadata": {
        "colab": {
          "base_uri": "https://localhost:8080/"
        },
        "id": "Nw3NY2I13DIx",
        "outputId": "a1d381a2-61d3-42fb-a87f-d059664a1903"
      },
      "execution_count": 19,
      "outputs": [
        {
          "output_type": "execute_result",
          "data": {
            "text/plain": [
              "(25000, 200)"
            ]
          },
          "metadata": {},
          "execution_count": 19
        }
      ]
    },
    {
      "cell_type": "code",
      "source": [
        "X_test = pad_sequences(X_test, maxlen=words_per_review)\n",
        "X_test.shape"
      ],
      "metadata": {
        "colab": {
          "base_uri": "https://localhost:8080/"
        },
        "id": "rwZQ-Wdf3E25",
        "outputId": "e1fb46c0-fddd-4207-fd9c-fd1acf7d4e6b"
      },
      "execution_count": 21,
      "outputs": [
        {
          "output_type": "execute_result",
          "data": {
            "text/plain": [
              "(25000, 200)"
            ]
          },
          "metadata": {},
          "execution_count": 21
        }
      ]
    },
    {
      "cell_type": "code",
      "source": [
        "from sklearn.model_selection import train_test_split\n",
        "X_test, X_val, y_test, y_val = train_test_split(X_test, y_test, random_state=11, test_size=0.20)\n",
        "print(X_test.shape)\n",
        "print(X_val.shape)\n"
      ],
      "metadata": {
        "colab": {
          "base_uri": "https://localhost:8080/"
        },
        "id": "SIUo9DNW3RJB",
        "outputId": "e21a62c8-b9c0-4fd8-f621-f05b0d797680"
      },
      "execution_count": 22,
      "outputs": [
        {
          "output_type": "stream",
          "name": "stdout",
          "text": [
            "(20000, 200)\n",
            "(5000, 200)\n"
          ]
        }
      ]
    },
    {
      "cell_type": "markdown",
      "source": [
        "##Нейронка\n"
      ],
      "metadata": {
        "id": "_0zWzaIn3lJZ"
      }
    },
    {
      "cell_type": "code",
      "source": [
        "from tensorflow.keras.models import Sequential\n",
        "from tensorflow.keras.layers import Dense, LSTM\n",
        "from tensorflow.keras.layers import Embedding\n",
        "rnn = Sequential()"
      ],
      "metadata": {
        "id": "KxwuAGcb3nYy"
      },
      "execution_count": 34,
      "outputs": []
    },
    {
      "cell_type": "code",
      "source": [
        "rnn.add(Embedding(input_dim=number_of_words, output_dim=128, input_length=words_per_review))\n",
        "rnn.add(LSTM(units=128, dropout=0.2, recurrent_dropout=0.2))\n",
        "rnn.add(Dense(units=1, activation='sigmoid'))\n",
        "rnn.compile(optimizer='adam', loss='binary_crossentropy',  metrics=['accuracy'])\n",
        "rnn.summary()"
      ],
      "metadata": {
        "colab": {
          "base_uri": "https://localhost:8080/"
        },
        "id": "_2Q0RIQ74Ujq",
        "outputId": "cc95f81f-5c6d-4e61-d955-04439054b4b0"
      },
      "execution_count": 35,
      "outputs": [
        {
          "output_type": "stream",
          "name": "stdout",
          "text": [
            "Model: \"sequential_2\"\n",
            "_________________________________________________________________\n",
            " Layer (type)                Output Shape              Param #   \n",
            "=================================================================\n",
            " embedding_7 (Embedding)     (None, 200, 128)          1280000   \n",
            "                                                                 \n",
            " lstm_6 (LSTM)               (None, 128)               131584    \n",
            "                                                                 \n",
            " dense_1 (Dense)             (None, 1)                 129       \n",
            "                                                                 \n",
            "=================================================================\n",
            "Total params: 1411713 (5.39 MB)\n",
            "Trainable params: 1411713 (5.39 MB)\n",
            "Non-trainable params: 0 (0.00 Byte)\n",
            "_________________________________________________________________\n"
          ]
        }
      ]
    },
    {
      "cell_type": "code",
      "source": [
        "rnn.fit(X_train, y_train, epochs=10, batch_size=32, validation_data=(X_test, y_test))"
      ],
      "metadata": {
        "colab": {
          "base_uri": "https://localhost:8080/"
        },
        "id": "hGzixJsj4qjh",
        "outputId": "52f758b8-6dbf-42ca-bd17-d3af9e29dc86"
      },
      "execution_count": 36,
      "outputs": [
        {
          "output_type": "stream",
          "name": "stdout",
          "text": [
            "Epoch 1/10\n",
            "782/782 [==============================] - 547s 692ms/step - loss: 0.4518 - accuracy: 0.7890 - val_loss: 0.3700 - val_accuracy: 0.8430\n",
            "Epoch 2/10\n",
            "782/782 [==============================] - 539s 690ms/step - loss: 0.3178 - accuracy: 0.8703 - val_loss: 0.3473 - val_accuracy: 0.8537\n",
            "Epoch 3/10\n",
            "782/782 [==============================] - 539s 689ms/step - loss: 0.2253 - accuracy: 0.9127 - val_loss: 0.3806 - val_accuracy: 0.8568\n",
            "Epoch 4/10\n",
            "782/782 [==============================] - 538s 688ms/step - loss: 0.1697 - accuracy: 0.9350 - val_loss: 0.3742 - val_accuracy: 0.8635\n",
            "Epoch 5/10\n",
            "782/782 [==============================] - 538s 688ms/step - loss: 0.2165 - accuracy: 0.9155 - val_loss: 0.4117 - val_accuracy: 0.8500\n",
            "Epoch 6/10\n",
            "782/782 [==============================] - 539s 688ms/step - loss: 0.1201 - accuracy: 0.9570 - val_loss: 0.4444 - val_accuracy: 0.8568\n",
            "Epoch 7/10\n",
            "782/782 [==============================] - 539s 689ms/step - loss: 0.0860 - accuracy: 0.9706 - val_loss: 0.5329 - val_accuracy: 0.8440\n",
            "Epoch 8/10\n",
            "782/782 [==============================] - 538s 688ms/step - loss: 0.0818 - accuracy: 0.9714 - val_loss: 0.5851 - val_accuracy: 0.8579\n",
            "Epoch 9/10\n",
            "782/782 [==============================] - 539s 689ms/step - loss: 0.0552 - accuracy: 0.9813 - val_loss: 0.6947 - val_accuracy: 0.8368\n",
            "Epoch 10/10\n",
            "782/782 [==============================] - 538s 689ms/step - loss: 0.0487 - accuracy: 0.9839 - val_loss: 0.5937 - val_accuracy: 0.8504\n"
          ]
        },
        {
          "output_type": "execute_result",
          "data": {
            "text/plain": [
              "<keras.src.callbacks.History at 0x7b643a90faf0>"
            ]
          },
          "metadata": {},
          "execution_count": 36
        }
      ]
    },
    {
      "cell_type": "markdown",
      "source": [
        "Завдання\n",
        "\n",
        "У нашому прикладі рекурентної нейронної мережі IMDb можна було спробувати налаштувати такі параметри:\n",
        "\n",
        "1)різні обсяги навчальних даних — ми використовували лише 10 000 найчастіше використовуваних (у відгуках про фільми) слів;\n",
        "\n",
        "2)різна кількість слів в одному відгуку - ми використовували тільки 200;\n",
        "\n",
        "3)різна кількість нейронів у рівнях;\n",
        "\n",
        "4)більша кількість рівнів;\n",
        "\n",
        "Результати прокоментувати"
      ],
      "metadata": {
        "id": "_ZOmAa7Yut9M"
      }
    },
    {
      "cell_type": "markdown",
      "source": [
        "##Відповідь:\n",
        "1) Зменшення обсягу навчальних даних (тобто використання лише 10 000 найчастіше використовуваних слів) може призвести до меншої точності, оскільки модель може не отримати достатньо інформації для вивчення складних залежностей у великому обсязі даних.\n",
        "\n",
        "2)Обрана кількість слів впливає на вміст інформації, яку модель може врахувати. Зменшення цього параметра може вести до втрати контексту, а збільшення може призвести до більш складних моделей, які можуть вимагати більше ресурсів для навчання.\n",
        "\n",
        "3)Зміна кількості нейронів у рівнях може вплинути на здатність моделі вивчати абстракції та складні залежності. Зазвичай, більша кількість нейронів може дозволити моделі вивчати складніші шаблони, але може допустити перенавчання, тому тут важливий баланс, можливо додавання прихованих рівнів.\n",
        "\n",
        "4)Додавання більше рівнів може допомогти моделі вивчати більше абстракцій та залежностей. Однак це може призвести до більшого часу навчання та більшого обсягу параметрів, що вимагає більше даних та ресурсів."
      ],
      "metadata": {
        "id": "aJSlDAbVujEW"
      }
    }
  ]
}