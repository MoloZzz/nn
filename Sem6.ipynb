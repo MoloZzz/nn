{
  "nbformat": 4,
  "nbformat_minor": 0,
  "metadata": {
    "colab": {
      "provenance": [],
      "authorship_tag": "ABX9TyNvnyU9D0DIs/PFdzEj7RxL",
      "include_colab_link": true
    },
    "kernelspec": {
      "name": "python3",
      "display_name": "Python 3"
    },
    "language_info": {
      "name": "python"
    }
  },
  "cells": [
    {
      "cell_type": "markdown",
      "metadata": {
        "id": "view-in-github",
        "colab_type": "text"
      },
      "source": [
        "<a href=\"https://colab.research.google.com/github/MoloZzz/nn/blob/main/Sem6.ipynb\" target=\"_parent\"><img src=\"https://colab.research.google.com/assets/colab-badge.svg\" alt=\"Open In Colab\"/></a>"
      ]
    },
    {
      "cell_type": "markdown",
      "source": [
        "Завдання\n",
        "1. Обрати предметну область для розв'язання задачі класифікації.\n",
        "2. Обрати датасет з власних джерел.\n",
        "3. Побудувати нейронну мережу для розв'язання задачі бінарної класифікації.\n",
        "4. Надіслати постановку задачі, датасет та реалізацію нейронної мережі."
      ],
      "metadata": {
        "id": "PMlgDw_D0LfV"
      }
    },
    {
      "cell_type": "markdown",
      "source": [
        "1) Катастрофи"
      ],
      "metadata": {
        "id": "5LLGvfWn8PW8"
      }
    },
    {
      "cell_type": "markdown",
      "source": [
        "2) Датасет \"Titanic\"\n",
        "Містить інформацію про пасажирів, які вижили або загинули під час катастрофи \"Титаніка\""
      ],
      "metadata": {
        "id": "4HS2qnsq8Q6s"
      }
    },
    {
      "cell_type": "markdown",
      "source": [
        "3) Нейронна мережа для бінарної класифікації. (Вижили, померли)\n",
        "Спочатку завантажу бібліотеки"
      ],
      "metadata": {
        "id": "ew4uUVBB8fCF"
      }
    },
    {
      "cell_type": "code",
      "source": [
        "!pip install pandas numpy scikit-learn tensorflow"
      ],
      "metadata": {
        "id": "arNA6pUr8nPs"
      },
      "execution_count": null,
      "outputs": []
    },
    {
      "cell_type": "code",
      "source": [
        "import pandas as pd\n",
        "from sklearn.model_selection import train_test_split\n",
        "from sklearn.preprocessing import StandardScaler\n",
        "from tensorflow.keras.models import Sequential\n",
        "from tensorflow.keras.layers import Dense\n",
        "\n",
        "file_path = \"/content/train.csv\"\n",
        "data = pd.read_csv(file_path)\n",
        "\n",
        "features = ['Pclass', 'Sex', 'Age', 'SibSp', 'Parch', 'Fare']\n",
        "X = data[features]\n",
        "y = data['Survived']\n",
        "\n",
        "X = pd.get_dummies(X, columns=['Sex'], drop_first=True)\n",
        "\n",
        "X = X.fillna(X.mean())\n",
        "\n",
        "X_train, X_test, y_train, y_test = train_test_split(X, y, test_size=0.2, random_state=42)\n",
        "\n",
        "scaler = StandardScaler()\n",
        "X_train = scaler.fit_transform(X_train)\n",
        "X_test = scaler.transform(X_test)\n",
        "\n",
        "model = Sequential()\n",
        "model.add(Dense(128, activation='relu', input_shape=(X_train.shape[1],)))\n",
        "model.add(Dense(64, activation='relu'))\n",
        "model.add(Dense(1, activation='sigmoid'))\n",
        "\n",
        "model.compile(optimizer='adam', loss='binary_crossentropy', metrics=['accuracy'])\n",
        "\n",
        "model.fit(X_train, y_train, epochs=10, batch_size=32, validation_data=(X_test, y_test))\n"
      ],
      "metadata": {
        "colab": {
          "base_uri": "https://localhost:8080/"
        },
        "id": "-En9HWDJ80Um",
        "outputId": "97921db7-3954-4c7c-819a-2d00c9b6f3f7"
      },
      "execution_count": 13,
      "outputs": [
        {
          "output_type": "stream",
          "name": "stdout",
          "text": [
            "Epoch 1/10\n",
            "23/23 [==============================] - 1s 10ms/step - loss: 0.5445 - accuracy: 0.8020 - val_loss: 0.4541 - val_accuracy: 0.7933\n",
            "Epoch 2/10\n",
            "23/23 [==============================] - 0s 4ms/step - loss: 0.4424 - accuracy: 0.8062 - val_loss: 0.4188 - val_accuracy: 0.8101\n",
            "Epoch 3/10\n",
            "23/23 [==============================] - 0s 3ms/step - loss: 0.4224 - accuracy: 0.8160 - val_loss: 0.4125 - val_accuracy: 0.8212\n",
            "Epoch 4/10\n",
            "23/23 [==============================] - 0s 3ms/step - loss: 0.4161 - accuracy: 0.8188 - val_loss: 0.4138 - val_accuracy: 0.8212\n",
            "Epoch 5/10\n",
            "23/23 [==============================] - 0s 4ms/step - loss: 0.4082 - accuracy: 0.8272 - val_loss: 0.4153 - val_accuracy: 0.8212\n",
            "Epoch 6/10\n",
            "23/23 [==============================] - 0s 4ms/step - loss: 0.4043 - accuracy: 0.8315 - val_loss: 0.4251 - val_accuracy: 0.8212\n",
            "Epoch 7/10\n",
            "23/23 [==============================] - 0s 4ms/step - loss: 0.4014 - accuracy: 0.8343 - val_loss: 0.4330 - val_accuracy: 0.8268\n",
            "Epoch 8/10\n",
            "23/23 [==============================] - 0s 4ms/step - loss: 0.4030 - accuracy: 0.8315 - val_loss: 0.4309 - val_accuracy: 0.8268\n",
            "Epoch 9/10\n",
            "23/23 [==============================] - 0s 4ms/step - loss: 0.3998 - accuracy: 0.8371 - val_loss: 0.4300 - val_accuracy: 0.8156\n",
            "Epoch 10/10\n",
            "23/23 [==============================] - 0s 4ms/step - loss: 0.3954 - accuracy: 0.8329 - val_loss: 0.4331 - val_accuracy: 0.8212\n"
          ]
        },
        {
          "output_type": "execute_result",
          "data": {
            "text/plain": [
              "<keras.src.callbacks.History at 0x783677211930>"
            ]
          },
          "metadata": {},
          "execution_count": 13
        }
      ]
    },
    {
      "cell_type": "code",
      "source": [
        "test_loss, test_accuracy = model.evaluate(X_test, y_test)\n",
        "print(f\"Test Accuracy: {test_accuracy * 100:.2f}%\")"
      ],
      "metadata": {
        "colab": {
          "base_uri": "https://localhost:8080/"
        },
        "id": "Q_uphtOr9HZ8",
        "outputId": "db2feb30-432e-471d-b419-762ef532ac41"
      },
      "execution_count": 14,
      "outputs": [
        {
          "output_type": "stream",
          "name": "stdout",
          "text": [
            "6/6 [==============================] - 0s 3ms/step - loss: 0.4331 - accuracy: 0.8212\n",
            "Test Accuracy: 82.12%\n"
          ]
        }
      ]
    },
    {
      "cell_type": "markdown",
      "source": [
        "Точність 82% Перевірю ще раз"
      ],
      "metadata": {
        "id": "fy-aqnpq9OVG"
      }
    },
    {
      "cell_type": "code",
      "source": [
        "predictions = model.predict(X_test)\n",
        "\n",
        "threshold = 0.5\n",
        "binary_predictions = [1 if pred > threshold else 0 for pred in predictions]"
      ],
      "metadata": {
        "colab": {
          "base_uri": "https://localhost:8080/"
        },
        "id": "4NjuABAf9Vus",
        "outputId": "d3c42bfb-63a9-4192-ebf5-a4ad50e3f32a"
      },
      "execution_count": 15,
      "outputs": [
        {
          "output_type": "stream",
          "name": "stdout",
          "text": [
            "6/6 [==============================] - 0s 2ms/step\n"
          ]
        }
      ]
    },
    {
      "cell_type": "code",
      "source": [
        "from sklearn.metrics import accuracy_score, confusion_matrix, classification_report\n",
        "\n",
        "accuracy = accuracy_score(y_test, binary_predictions)\n",
        "confusion = confusion_matrix(y_test, binary_predictions)\n",
        "classification_report_result = classification_report(y_test, binary_predictions)\n",
        "\n",
        "print(f\"Accuracy: {accuracy * 100:.2f}%\")\n",
        "print(\"Confusion Matrix:\")\n",
        "print(confusion)\n",
        "print(\"Classification Report:\")\n",
        "print(classification_report_result)"
      ],
      "metadata": {
        "colab": {
          "base_uri": "https://localhost:8080/"
        },
        "id": "gnMzHhSR9d0b",
        "outputId": "d5b41d23-c882-4a7a-dec1-ac1cd88a3a10"
      },
      "execution_count": 16,
      "outputs": [
        {
          "output_type": "stream",
          "name": "stdout",
          "text": [
            "Accuracy: 82.12%\n",
            "Confusion Matrix:\n",
            "[[95 10]\n",
            " [22 52]]\n",
            "Classification Report:\n",
            "              precision    recall  f1-score   support\n",
            "\n",
            "           0       0.81      0.90      0.86       105\n",
            "           1       0.84      0.70      0.76        74\n",
            "\n",
            "    accuracy                           0.82       179\n",
            "   macro avg       0.83      0.80      0.81       179\n",
            "weighted avg       0.82      0.82      0.82       179\n",
            "\n"
          ]
        }
      ]
    },
    {
      "cell_type": "markdown",
      "source": [
        "Звідси бачимо, що помилилась мережа в 32(10+22) випадках, А вірно класифікувала у 142(95+52)"
      ],
      "metadata": {
        "id": "9xa5swL0_WZD"
      }
    },
    {
      "cell_type": "markdown",
      "source": [
        "Постановка задачі:\n",
        "Маємо датасет, який містить інформацію про пасажирів Титаніка, включаючи їхні особисті дані (клас, вік, стать, кількість братів/сестер та подружжя, кількість батьків/дітей, вартість квитка і т. д.) та мітки класів, які вказують, чи пасажир вижив (1) чи ні (0).\n",
        "Задача мережі: класифікувати пасажирів як виживших чи не виживших на основі їхніх особистих даних."
      ],
      "metadata": {
        "id": "0stLYsNEBbLS"
      }
    }
  ]
}