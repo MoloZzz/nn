{
  "nbformat": 4,
  "nbformat_minor": 0,
  "metadata": {
    "colab": {
      "provenance": [],
      "authorship_tag": "ABX9TyOfIxiGg9t4fDNfUjo782Oe",
      "include_colab_link": true
    },
    "kernelspec": {
      "name": "python3",
      "display_name": "Python 3"
    },
    "language_info": {
      "name": "python"
    }
  },
  "cells": [
    {
      "cell_type": "markdown",
      "metadata": {
        "id": "view-in-github",
        "colab_type": "text"
      },
      "source": [
        "<a href=\"https://colab.research.google.com/github/MoloZzz/nn/blob/main/Sem7.ipynb\" target=\"_parent\"><img src=\"https://colab.research.google.com/assets/colab-badge.svg\" alt=\"Open In Colab\"/></a>"
      ]
    },
    {
      "cell_type": "markdown",
      "source": [
        "Створити і навчити повнозвязну нейронну мережу (НМ) для\n",
        "прийняття рішення о зарахуванні абітурієнтів у навчальний заклад\n",
        "(коледж). Абітурієнти складають іспити з математики, фізики та\n",
        "української мови."
      ],
      "metadata": {
        "id": "rXzT-7vADSqv"
      }
    },
    {
      "cell_type": "markdown",
      "source": [
        "Правила прийому наступні:\n",
        "1. Прохідний бал для абітурієнтів, що не мають пільг повинен\n",
        "дорівнювати 11.\n",
        "2. Задовільна оцінка (оцінка 3) з математики і фізики для цієї\n",
        "категорії абітурієнтів неприпустимі.\n",
        "3. Абітурієнти, що мають пільги, зараховуються при будь-яких\n",
        "позитивних (3 і вище) оцінках з усіх трьох предметів\n",
        "відповідно.\n",
        "• Для навчання НМ використати підхід навчання з вчителем.\n",
        "• Визначити мінімальну кількість шарів та нейронів в цих шарах,\n",
        "що забезпечує задовільний розв’язок поставленої задачі.\n",
        "Обґрунтувати.\n",
        "• Сформувати (згенерувати) самостійно необхідний датасет.\n",
        "Вивести вміст датасету та окремо вивести навчальну та\n",
        "валідаційну вібірку.\n",
        "• Передбачити можливість введення оцінок користувачем\n",
        "(тестових даних) та виведенням результату о зарахуванні.\n",
        "Спосіб введення обрати самостійно (зчитування з файлу,\n",
        "введення з клавіатури, тощо).\n",
        "• Оцінити роботу мережі. Результати обґрунтувати та вивести."
      ],
      "metadata": {
        "id": "-Sbs9ctYDVKH"
      }
    },
    {
      "cell_type": "code",
      "execution_count": null,
      "metadata": {
        "id": "vY6dsTsoDQhJ"
      },
      "outputs": [],
      "source": [
        "import numpy as np\n",
        "from sklearn.model_selection import train_test_split\n",
        "from tensorflow.keras.models import Sequential\n",
        "from tensorflow.keras.layers import Dense\n",
        "\n",
        "from sklearn.metrics import accuracy_score, confusion_matrix, classification_report"
      ]
    },
    {
      "cell_type": "markdown",
      "source": [
        "Спочатку треба згенерувати датасет"
      ],
      "metadata": {
        "id": "34usCdzFDeu3"
      }
    },
    {
      "cell_type": "code",
      "source": [
        "Abitur = np.random.randint(1, 6, size=(1000, 3))  # оцінки з математики, фізики та української мови\n",
        "Pilga = np.random.randint(0, 2, size=(1000, 1))"
      ],
      "metadata": {
        "id": "i6DMWmRJD-Wh"
      },
      "execution_count": null,
      "outputs": []
    },
    {
      "cell_type": "markdown",
      "source": [
        "Перевірка зарахування"
      ],
      "metadata": {
        "id": "VXtT1ewiElTl"
      }
    },
    {
      "cell_type": "code",
      "source": [
        "def reception(bal, pilga):\n",
        "    if pilga == 1:\n",
        "        if np.all(bal >= 3):\n",
        "            return \"зараховано\"\n",
        "    else:\n",
        "        if np.sum(bal[:2]) > 6:  #перевіряємо другу умову\n",
        "            return \"зараховано\"\n",
        "    return \"не зараховано\""
      ],
      "metadata": {
        "id": "kkwseAD3Eo5p"
      },
      "execution_count": null,
      "outputs": []
    },
    {
      "cell_type": "code",
      "source": [
        "Reception = np.zeros((1000, 1))\n",
        "for i in range(len(Reception)):\n",
        "    if Pilga[i] == 1:\n",
        "        if np.all(Abitur[i] >= 3):\n",
        "            Reception[i] = 1\n",
        "    else:\n",
        "        if np.sum(Abitur[i, :2]) > 6:  # математика + фізика\n",
        "            Reception[i] = 1\n",
        "\n",
        "X_train, X_val, y_train, y_val = train_test_split(Abitur, Reception, test_size=0.2, random_state=42)"
      ],
      "metadata": {
        "id": "3mYgLdbADf6X"
      },
      "execution_count": null,
      "outputs": []
    },
    {
      "cell_type": "markdown",
      "source": [
        "Задаємо структуру мережі"
      ],
      "metadata": {
        "id": "cgxyTrpUFWh-"
      }
    },
    {
      "cell_type": "code",
      "source": [
        "model = Sequential()\n",
        "model.add(Dense(8, input_dim=3, activation='relu'))  # Вхідний шар з 3 нейронами (оцінки з трьох предметів)\n",
        "model.add(Dense(6, activation='relu'))  # Потенційно прихований шар\n",
        "model.add(Dense(1, activation='sigmoid'))  # Вихідний шар\n",
        "\n",
        "model.compile(loss='binary_crossentropy', optimizer='adam', metrics=['accuracy'])\n",
        "model.fit(X_train, y_train, epochs=50, batch_size=32, validation_data=(X_val, y_val))"
      ],
      "metadata": {
        "colab": {
          "base_uri": "https://localhost:8080/"
        },
        "id": "4s1qaakKFaOd",
        "outputId": "f0180a66-591a-466b-da00-360dc21f648b"
      },
      "execution_count": null,
      "outputs": [
        {
          "output_type": "stream",
          "name": "stdout",
          "text": [
            "Epoch 1/50\n",
            "25/25 [==============================] - 1s 13ms/step - loss: 1.0748 - accuracy: 0.3063 - val_loss: 0.9196 - val_accuracy: 0.2950\n",
            "Epoch 2/50\n",
            "25/25 [==============================] - 0s 5ms/step - loss: 0.8607 - accuracy: 0.3063 - val_loss: 0.7710 - val_accuracy: 0.2950\n",
            "Epoch 3/50\n",
            "25/25 [==============================] - 0s 5ms/step - loss: 0.7430 - accuracy: 0.4013 - val_loss: 0.6951 - val_accuracy: 0.5900\n",
            "Epoch 4/50\n",
            "25/25 [==============================] - 0s 5ms/step - loss: 0.6860 - accuracy: 0.5938 - val_loss: 0.6592 - val_accuracy: 0.6400\n",
            "Epoch 5/50\n",
            "25/25 [==============================] - 0s 5ms/step - loss: 0.6604 - accuracy: 0.6037 - val_loss: 0.6426 - val_accuracy: 0.6550\n",
            "Epoch 6/50\n",
            "25/25 [==============================] - 0s 5ms/step - loss: 0.6494 - accuracy: 0.6500 - val_loss: 0.6358 - val_accuracy: 0.6600\n",
            "Epoch 7/50\n",
            "25/25 [==============================] - 0s 5ms/step - loss: 0.6446 - accuracy: 0.6650 - val_loss: 0.6316 - val_accuracy: 0.6650\n",
            "Epoch 8/50\n",
            "25/25 [==============================] - 0s 5ms/step - loss: 0.6410 - accuracy: 0.6737 - val_loss: 0.6284 - val_accuracy: 0.6750\n",
            "Epoch 9/50\n",
            "25/25 [==============================] - 0s 4ms/step - loss: 0.6383 - accuracy: 0.6762 - val_loss: 0.6248 - val_accuracy: 0.6750\n",
            "Epoch 10/50\n",
            "25/25 [==============================] - 0s 4ms/step - loss: 0.6359 - accuracy: 0.6837 - val_loss: 0.6215 - val_accuracy: 0.6950\n",
            "Epoch 11/50\n",
            "25/25 [==============================] - 0s 4ms/step - loss: 0.6331 - accuracy: 0.6812 - val_loss: 0.6182 - val_accuracy: 0.6950\n",
            "Epoch 12/50\n",
            "25/25 [==============================] - 0s 4ms/step - loss: 0.6300 - accuracy: 0.6837 - val_loss: 0.6148 - val_accuracy: 0.7000\n",
            "Epoch 13/50\n",
            "25/25 [==============================] - 0s 4ms/step - loss: 0.6266 - accuracy: 0.6825 - val_loss: 0.6110 - val_accuracy: 0.6950\n",
            "Epoch 14/50\n",
            "25/25 [==============================] - 0s 3ms/step - loss: 0.6236 - accuracy: 0.6837 - val_loss: 0.6078 - val_accuracy: 0.7000\n",
            "Epoch 15/50\n",
            "25/25 [==============================] - 0s 4ms/step - loss: 0.6204 - accuracy: 0.6850 - val_loss: 0.6041 - val_accuracy: 0.7000\n",
            "Epoch 16/50\n",
            "25/25 [==============================] - 0s 4ms/step - loss: 0.6173 - accuracy: 0.6850 - val_loss: 0.6002 - val_accuracy: 0.7000\n",
            "Epoch 17/50\n",
            "25/25 [==============================] - 0s 4ms/step - loss: 0.6142 - accuracy: 0.6862 - val_loss: 0.5965 - val_accuracy: 0.7050\n",
            "Epoch 18/50\n",
            "25/25 [==============================] - 0s 3ms/step - loss: 0.6114 - accuracy: 0.6850 - val_loss: 0.5926 - val_accuracy: 0.7050\n",
            "Epoch 19/50\n",
            "25/25 [==============================] - 0s 4ms/step - loss: 0.6072 - accuracy: 0.6938 - val_loss: 0.5887 - val_accuracy: 0.7050\n",
            "Epoch 20/50\n",
            "25/25 [==============================] - 0s 3ms/step - loss: 0.6035 - accuracy: 0.6938 - val_loss: 0.5841 - val_accuracy: 0.7050\n",
            "Epoch 21/50\n",
            "25/25 [==============================] - 0s 3ms/step - loss: 0.5997 - accuracy: 0.6938 - val_loss: 0.5798 - val_accuracy: 0.7050\n",
            "Epoch 22/50\n",
            "25/25 [==============================] - 0s 3ms/step - loss: 0.5963 - accuracy: 0.6938 - val_loss: 0.5756 - val_accuracy: 0.7050\n",
            "Epoch 23/50\n",
            "25/25 [==============================] - 0s 4ms/step - loss: 0.5916 - accuracy: 0.6938 - val_loss: 0.5707 - val_accuracy: 0.7050\n",
            "Epoch 24/50\n",
            "25/25 [==============================] - 0s 4ms/step - loss: 0.5875 - accuracy: 0.6938 - val_loss: 0.5665 - val_accuracy: 0.7050\n",
            "Epoch 25/50\n",
            "25/25 [==============================] - 0s 3ms/step - loss: 0.5832 - accuracy: 0.6938 - val_loss: 0.5619 - val_accuracy: 0.7050\n",
            "Epoch 26/50\n",
            "25/25 [==============================] - 0s 4ms/step - loss: 0.5790 - accuracy: 0.6938 - val_loss: 0.5568 - val_accuracy: 0.7050\n",
            "Epoch 27/50\n",
            "25/25 [==============================] - 0s 4ms/step - loss: 0.5749 - accuracy: 0.6938 - val_loss: 0.5521 - val_accuracy: 0.7050\n",
            "Epoch 28/50\n",
            "25/25 [==============================] - 0s 4ms/step - loss: 0.5701 - accuracy: 0.7038 - val_loss: 0.5463 - val_accuracy: 0.7350\n",
            "Epoch 29/50\n",
            "25/25 [==============================] - 0s 4ms/step - loss: 0.5653 - accuracy: 0.7175 - val_loss: 0.5414 - val_accuracy: 0.7350\n",
            "Epoch 30/50\n",
            "25/25 [==============================] - 0s 4ms/step - loss: 0.5616 - accuracy: 0.6975 - val_loss: 0.5360 - val_accuracy: 0.7200\n",
            "Epoch 31/50\n",
            "25/25 [==============================] - 0s 3ms/step - loss: 0.5542 - accuracy: 0.7350 - val_loss: 0.5283 - val_accuracy: 0.7550\n",
            "Epoch 32/50\n",
            "25/25 [==============================] - 0s 4ms/step - loss: 0.5480 - accuracy: 0.7225 - val_loss: 0.5210 - val_accuracy: 0.7500\n",
            "Epoch 33/50\n",
            "25/25 [==============================] - 0s 4ms/step - loss: 0.5389 - accuracy: 0.7613 - val_loss: 0.5119 - val_accuracy: 0.7750\n",
            "Epoch 34/50\n",
            "25/25 [==============================] - 0s 4ms/step - loss: 0.5302 - accuracy: 0.7550 - val_loss: 0.5037 - val_accuracy: 0.7750\n",
            "Epoch 35/50\n",
            "25/25 [==============================] - 0s 3ms/step - loss: 0.5216 - accuracy: 0.7575 - val_loss: 0.4943 - val_accuracy: 0.7700\n",
            "Epoch 36/50\n",
            "25/25 [==============================] - 0s 3ms/step - loss: 0.5108 - accuracy: 0.7862 - val_loss: 0.4849 - val_accuracy: 0.7900\n",
            "Epoch 37/50\n",
            "25/25 [==============================] - 0s 4ms/step - loss: 0.5016 - accuracy: 0.7812 - val_loss: 0.4763 - val_accuracy: 0.7750\n",
            "Epoch 38/50\n",
            "25/25 [==============================] - 0s 3ms/step - loss: 0.4921 - accuracy: 0.8238 - val_loss: 0.4677 - val_accuracy: 0.8250\n",
            "Epoch 39/50\n",
            "25/25 [==============================] - 0s 4ms/step - loss: 0.4843 - accuracy: 0.8163 - val_loss: 0.4606 - val_accuracy: 0.7950\n",
            "Epoch 40/50\n",
            "25/25 [==============================] - 0s 3ms/step - loss: 0.4780 - accuracy: 0.8263 - val_loss: 0.4517 - val_accuracy: 0.8200\n",
            "Epoch 41/50\n",
            "25/25 [==============================] - 0s 4ms/step - loss: 0.4702 - accuracy: 0.8238 - val_loss: 0.4440 - val_accuracy: 0.8200\n",
            "Epoch 42/50\n",
            "25/25 [==============================] - 0s 3ms/step - loss: 0.4639 - accuracy: 0.8213 - val_loss: 0.4357 - val_accuracy: 0.8450\n",
            "Epoch 43/50\n",
            "25/25 [==============================] - 0s 4ms/step - loss: 0.4594 - accuracy: 0.8250 - val_loss: 0.4289 - val_accuracy: 0.8550\n",
            "Epoch 44/50\n",
            "25/25 [==============================] - 0s 3ms/step - loss: 0.4522 - accuracy: 0.8225 - val_loss: 0.4217 - val_accuracy: 0.8550\n",
            "Epoch 45/50\n",
            "25/25 [==============================] - 0s 4ms/step - loss: 0.4467 - accuracy: 0.8300 - val_loss: 0.4161 - val_accuracy: 0.8500\n",
            "Epoch 46/50\n",
            "25/25 [==============================] - 0s 4ms/step - loss: 0.4410 - accuracy: 0.8175 - val_loss: 0.4072 - val_accuracy: 0.8500\n",
            "Epoch 47/50\n",
            "25/25 [==============================] - 0s 4ms/step - loss: 0.4345 - accuracy: 0.8175 - val_loss: 0.4014 - val_accuracy: 0.8350\n",
            "Epoch 48/50\n",
            "25/25 [==============================] - 0s 4ms/step - loss: 0.4287 - accuracy: 0.8150 - val_loss: 0.3930 - val_accuracy: 0.8500\n",
            "Epoch 49/50\n",
            "25/25 [==============================] - 0s 3ms/step - loss: 0.4228 - accuracy: 0.8138 - val_loss: 0.3859 - val_accuracy: 0.8500\n",
            "Epoch 50/50\n",
            "25/25 [==============================] - 0s 4ms/step - loss: 0.4173 - accuracy: 0.8213 - val_loss: 0.3793 - val_accuracy: 0.8800\n"
          ]
        },
        {
          "output_type": "execute_result",
          "data": {
            "text/plain": [
              "<keras.src.callbacks.History at 0x7f3cbd5e6590>"
            ]
          },
          "metadata": {},
          "execution_count": 10
        }
      ]
    },
    {
      "cell_type": "markdown",
      "source": [
        "Тести"
      ],
      "metadata": {
        "id": "lI63atUAFfn2"
      }
    },
    {
      "cell_type": "code",
      "source": [
        "\n",
        "print(\"Введіть свої бали, по черзі, в такому порядку:  математики, фізики та української мови (допустимо від 1 до 5):\")\n",
        "mat_bal = int(input(\"Оцінка з математики: \"))\n",
        "physic_bal = int(input(\"Оцінка з фізики: \"))\n",
        "ukr_bal = int(input(\"Оцінка з української мови: \"))\n",
        "\n",
        "pilga = int(input(\"Чи маєте пільги? (1 - так, 0 - ні): \"))\n",
        "isResult = reception(np.array([mat_bal, physic_bal, ukr_bal]), pilga)\n",
        "\n",
        "# Виведення результату\n",
        "print(f\"Вас {isResult}\")"
      ],
      "metadata": {
        "colab": {
          "base_uri": "https://localhost:8080/"
        },
        "id": "iCAgpVY_FhZk",
        "outputId": "c199618e-e86e-41d5-b0c2-27c61eb1c4f1"
      },
      "execution_count": null,
      "outputs": [
        {
          "output_type": "stream",
          "name": "stdout",
          "text": [
            "Введіть свої бали, по черзі, в такому порядку:  математики, фізики та української мови (допустимо від 1 до 5):\n",
            "Оцінка з математики: 4\n",
            "Оцінка з фізики: 3\n",
            "Оцінка з української мови: 4\n",
            "Чи маєте пільги? (1 - так, 0 - ні): 0\n",
            "Вас зараховано\n"
          ]
        }
      ]
    },
    {
      "cell_type": "markdown",
      "source": [
        "Оцінка точності"
      ],
      "metadata": {
        "id": "N7RwBERRG6rJ"
      }
    },
    {
      "cell_type": "code",
      "source": [
        "test_loss, test_accuracy = model.evaluate(X_val, y_val)\n",
        "print(f\"Test Accuracy: {test_accuracy * 100:.2f}%\")"
      ],
      "metadata": {
        "colab": {
          "base_uri": "https://localhost:8080/"
        },
        "id": "sfq2w_oCG9EJ",
        "outputId": "3d36e4a3-c4ae-41b2-c76e-161d08fc641b"
      },
      "execution_count": 22,
      "outputs": [
        {
          "output_type": "stream",
          "name": "stdout",
          "text": [
            "7/7 [==============================] - 0s 2ms/step - loss: 0.3793 - accuracy: 0.8800\n",
            "Test Accuracy: 88.00%\n"
          ]
        }
      ]
    },
    {
      "cell_type": "code",
      "source": [
        "Y = model.predict(X_val) > 0.5\n",
        "conf_matrix = confusion_matrix(y_val, Y)\n",
        "print(conf_matrix)"
      ],
      "metadata": {
        "colab": {
          "base_uri": "https://localhost:8080/"
        },
        "id": "X6ZMkLPkHPdc",
        "outputId": "461fc3e7-f1c1-458b-bdb3-9cd7da203434"
      },
      "execution_count": 27,
      "outputs": [
        {
          "output_type": "stream",
          "name": "stdout",
          "text": [
            "7/7 [==============================] - 0s 2ms/step\n",
            "[[132   9]\n",
            " [ 15  44]]\n"
          ]
        }
      ]
    },
    {
      "cell_type": "markdown",
      "source": [
        "Отже вірно 176, невірно 24. Такий результат роботи"
      ],
      "metadata": {
        "id": "5sA1zpVSHmK7"
      }
    }
  ]
}