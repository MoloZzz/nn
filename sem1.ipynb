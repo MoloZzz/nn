{
  "nbformat": 4,
  "nbformat_minor": 0,
  "metadata": {
    "colab": {
      "provenance": [],
      "authorship_tag": "ABX9TyMYNvXnXcYzFzZ3ZOY1EH4p",
      "include_colab_link": true
    },
    "kernelspec": {
      "name": "python3",
      "display_name": "Python 3"
    },
    "language_info": {
      "name": "python"
    }
  },
  "cells": [
    {
      "cell_type": "markdown",
      "metadata": {
        "id": "view-in-github",
        "colab_type": "text"
      },
      "source": [
        "<a href=\"https://colab.research.google.com/github/MoloZzz/nn/blob/main/sem1.ipynb\" target=\"_parent\"><img src=\"https://colab.research.google.com/assets/colab-badge.svg\" alt=\"Open In Colab\"/></a>"
      ]
    },
    {
      "cell_type": "markdown",
      "source": [
        "#Імпортування модулів\n"
      ],
      "metadata": {
        "id": "aR7Gf8FBtcxj"
      }
    },
    {
      "cell_type": "code",
      "execution_count": 1,
      "metadata": {
        "id": "IirWYWuzZzFt"
      },
      "outputs": [],
      "source": [
        "import numpy as np\n",
        "from sympy import *\n",
        "\n",
        "\n"
      ]
    },
    {
      "cell_type": "markdown",
      "source": [
        "#Дані:\n",
        "###Приклад 1"
      ],
      "metadata": {
        "id": "OTWv1SpaZzoM"
      }
    },
    {
      "cell_type": "code",
      "source": [
        "A = Matrix([[1, -3], [8, 0]])\n",
        "B = Matrix([[-1, 1], [0, 4]])\n",
        "print('Приклад')\n",
        "print(A,'-',2,'* X','=','3 *',B)\n",
        "print('Перша дія')\n",
        "print('3 *',B,'=',3*B)\n",
        "print('Друга дія')\n",
        "print('3 *',B,'-',A, '=',3 * B - A)\n",
        "X = (3 * B - A)/-2\n",
        "print('Результат')\n",
        "print(X)\n",
        "print('Перевірка')\n",
        "print(A - 2 * X == 3 * B)\n"
      ],
      "metadata": {
        "colab": {
          "base_uri": "https://localhost:8080/"
        },
        "id": "VsMC3QuDoEGk",
        "outputId": "13645b17-e974-4a82-8ae6-e328d9b3621f"
      },
      "execution_count": 2,
      "outputs": [
        {
          "output_type": "stream",
          "name": "stdout",
          "text": [
            "Приклад\n",
            "Matrix([[1, -3], [8, 0]]) - 2 * X = 3 * Matrix([[-1, 1], [0, 4]])\n",
            "Перша дія\n",
            "3 * Matrix([[-1, 1], [0, 4]]) = Matrix([[-3, 3], [0, 12]])\n",
            "Друга дія\n",
            "3 * Matrix([[-1, 1], [0, 4]]) - Matrix([[1, -3], [8, 0]]) = Matrix([[-4, 6], [-8, 12]])\n",
            "Результат\n",
            "Matrix([[2, -3], [4, -6]])\n",
            "Перевірка\n",
            "True\n"
          ]
        }
      ]
    },
    {
      "cell_type": "markdown",
      "source": [
        "###Приклад 2\n",
        "\n",
        "\n"
      ],
      "metadata": {
        "id": "fFv6NN2EwHiA"
      }
    },
    {
      "cell_type": "code",
      "source": [
        "A1 = np.array([[3,2,1],[2,3,1],[2,1,3]])\n",
        "B1 = np.array([[3],[1],[4]])\n",
        "C1 = np.array([[2],[-2],[0]])\n",
        "\n",
        "from fractions import Fraction\n",
        "\n",
        "print('Приклад(A * X = B + C)')\n",
        "print(A1,'* Х = ',B1,\"+\",C1)\n",
        "print('Перша дія(B + C)')\n",
        "FirstAction1 = (B1 + C1)\n",
        "print(FirstAction1)\n",
        "print(\"Шукаємо детермінант, щоб знати чи існує обернена матриця, так як ділення матриць, це множення матриці на обернену\")\n",
        "print(np.linalg.det(A1) == 0)\n",
        "print('Так як детермінант не 0, існує обернена матриця,знайдемо її')\n",
        "print(A1)\n",
        "print(np.linalg.inv(A1))\n",
        "print(A1*np.linalg.inv(A1))\n",
        "print(\"Числа дробові, не знаю як лишити дробом і не переводити в десяткові\")\n"
      ],
      "metadata": {
        "colab": {
          "base_uri": "https://localhost:8080/"
        },
        "id": "U3ZmZPRWwP5p",
        "outputId": "e26a1f89-df79-4cf4-e433-e42b5443b16e"
      },
      "execution_count": 3,
      "outputs": [
        {
          "output_type": "stream",
          "name": "stdout",
          "text": [
            "Приклад(A * X = B + C)\n",
            "[[3 2 1]\n",
            " [2 3 1]\n",
            " [2 1 3]] * Х =  [[3]\n",
            " [1]\n",
            " [4]] + [[ 2]\n",
            " [-2]\n",
            " [ 0]]\n",
            "Перша дія(B + C)\n",
            "[[ 5]\n",
            " [-1]\n",
            " [ 4]]\n",
            "Шукаємо детермінант, щоб знати чи існує обернена матриця, так як ділення матриць, це множення матриці на обернену\n",
            "False\n",
            "Так як детермінант не 0, існує обернена матриця,знайдемо її\n",
            "[[3 2 1]\n",
            " [2 3 1]\n",
            " [2 1 3]]\n",
            "[[ 0.66666667 -0.41666667 -0.08333333]\n",
            " [-0.33333333  0.58333333 -0.08333333]\n",
            " [-0.33333333  0.08333333  0.41666667]]\n",
            "[[ 2.         -0.83333333 -0.08333333]\n",
            " [-0.66666667  1.75       -0.08333333]\n",
            " [-0.66666667  0.08333333  1.25      ]]\n",
            "Числа дробові, не знаю як лишити дробом і не переводити в десяткові\n"
          ]
        }
      ]
    },
    {
      "cell_type": "markdown",
      "source": [
        "###Приклад 3"
      ],
      "metadata": {
        "id": "Yi5LPjbiBzIS"
      }
    },
    {
      "cell_type": "code",
      "source": [
        "A2 = np.array([[9,7,6],[1,1,2],[1,1,1]])\n",
        "B2 = np.array([[2,0,-2],[18,12,9],[24,14,11]])\n",
        "print(\"Приклад\")\n",
        "print(\"X * \",A1,' = ',B2)\n",
        "print(\"Перша дія(знайти обернену до А)\")\n",
        "print(np.linalg.inv(A2))\n",
        "print(\"Друга дія(Помножити на обернену)\")\n",
        "X2 = np.linalg.inv(A2)*B2\n",
        "print(X2)\n",
        "print(\"Перевірка(воно не працює, тому що обернену шукає не вірно,так як там дроби які неможливо перевести в десяткові)\")\n",
        "print(X2*A1==B2)"
      ],
      "metadata": {
        "colab": {
          "base_uri": "https://localhost:8080/"
        },
        "id": "VKAdvDuWByl-",
        "outputId": "bb2a0aa0-807e-43a6-cd31-015af54b3900"
      },
      "execution_count": 7,
      "outputs": [
        {
          "output_type": "stream",
          "name": "stdout",
          "text": [
            "Приклад\n",
            "X *  [[3 2 1]\n",
            " [2 3 1]\n",
            " [2 1 3]]  =  [[ 2  0 -2]\n",
            " [18 12  9]\n",
            " [24 14 11]]\n",
            "Перша дія\n",
            "[[ 0.5  0.5 -4. ]\n",
            " [-0.5 -1.5  6. ]\n",
            " [-0.   1.  -1. ]]\n",
            "Друга дія\n",
            "[[  1.   0.   8.]\n",
            " [ -9. -18.  54.]\n",
            " [ -0.  14. -11.]]\n",
            "Перевірка\n",
            "[[False  True False]\n",
            " [False False False]\n",
            " [False  True False]]\n"
          ]
        }
      ]
    },
    {
      "cell_type": "markdown",
      "source": [
        "## Приклад 3\n"
      ],
      "metadata": {
        "id": "AHY8jYs76AS_"
      }
    },
    {
      "cell_type": "code",
      "source": [
        "A31 = np.array([[2,1,3],[-1,4,2],[1,2,-2]])\n",
        "B31 = np.array([[3,1,2],[4,-1,3]])\n",
        "C31 = np.array([[0,-1,2],[-1,2,0]])\n",
        "\n",
        "print(\"Приклад\")\n",
        "print(\"X * \",A31,'+2 ',B31,\" = 5 * \",C31)\n",
        "print(\"Перша дія\")\n",
        "print(np.dot(2 ,B31))\n",
        "print(\"Друга дія\")\n",
        "print(np.dot(5 ,C31))\n",
        "print(\"Третя дія\")\n",
        "D31 = np.subtract(np.dot(5 ,C31), np.dot(2 ,B31))\n",
        "print(D31)\n",
        "print(\"Четверта дія\")\n",
        "print(np.linalg.inv(A31))\n",
        "print(\"Результат\")\n",
        "inverse_A31 = np.linalg.inv(A31)\n",
        "X31 = np.dot(D31, inverse_A31)\n",
        "print(X31)\n",
        "print(\"Перевірка - матриці не рівні,отже не можливо вирішити\")\n",
        "#print(X31 * A31 == 5 * C31 - 2*B31)"
      ],
      "metadata": {
        "colab": {
          "base_uri": "https://localhost:8080/"
        },
        "id": "Lltmw4-J6EOO",
        "outputId": "36b485f2-f389-434e-8659-6d2ea830cf12"
      },
      "execution_count": 28,
      "outputs": [
        {
          "output_type": "stream",
          "name": "stdout",
          "text": [
            "Приклад\n",
            "X *  [[ 2  1  3]\n",
            " [-1  4  2]\n",
            " [ 1  2 -2]] +2  [[ 3  1  2]\n",
            " [ 4 -1  3]]  = 5 *  [[ 0 -1  2]\n",
            " [-1  2  0]]\n",
            "Перша дія\n",
            "[[ 6  2  4]\n",
            " [ 8 -2  6]]\n",
            "Друга дія\n",
            "[[ 0 -5 10]\n",
            " [-5 10  0]]\n",
            "Третя дія\n",
            "[[ -6  -7   6]\n",
            " [-13  12  -6]]\n",
            "Четверта дія\n",
            "[[ 0.28571429 -0.19047619  0.23809524]\n",
            " [ 0.          0.16666667  0.16666667]\n",
            " [ 0.14285714  0.07142857 -0.21428571]]\n",
            "Результат\n",
            "[[-0.85714286  0.4047619  -3.88095238]\n",
            " [-4.57142857  4.04761905  0.19047619]]\n",
            "Перевірка - матриці не рівні,отже не можливо вирішити\n"
          ]
        }
      ]
    }
  ]
}