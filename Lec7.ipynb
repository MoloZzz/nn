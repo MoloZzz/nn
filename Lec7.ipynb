{
  "nbformat": 4,
  "nbformat_minor": 0,
  "metadata": {
    "colab": {
      "provenance": [],
      "authorship_tag": "ABX9TyPP8vI9NdkJP3OcDONUhuIz",
      "include_colab_link": true
    },
    "kernelspec": {
      "name": "python3",
      "display_name": "Python 3"
    },
    "language_info": {
      "name": "python"
    }
  },
  "cells": [
    {
      "cell_type": "markdown",
      "metadata": {
        "id": "view-in-github",
        "colab_type": "text"
      },
      "source": [
        "<a href=\"https://colab.research.google.com/github/MoloZzz/nn/blob/main/Lec7.ipynb\" target=\"_parent\"><img src=\"https://colab.research.google.com/assets/colab-badge.svg\" alt=\"Open In Colab\"/></a>"
      ]
    },
    {
      "cell_type": "markdown",
      "source": [
        "Структура нейронної мережі визначається її архітектурою, яка включає в себе кількість шарів, кількість нейронів у кожному шарі та зв'язки між нейронами. Основні компоненти структури нейронної мережі включають вхідний шар, приховані шари та вихідний шар."
      ],
      "metadata": {
        "id": "q2cYKEYSoT9z"
      }
    },
    {
      "cell_type": "code",
      "execution_count": 1,
      "metadata": {
        "colab": {
          "base_uri": "https://localhost:8080/"
        },
        "id": "U0A6C_39nyAI",
        "outputId": "3bd628bb-45fd-4c6f-f7fd-59a8d3886511"
      },
      "outputs": [
        {
          "output_type": "stream",
          "name": "stdout",
          "text": [
            "Кількість нейронів на вхідному шарі: 400, Точність на тестовому наборі: 1.0\n",
            "Кількість нейронів на вхідному шарі: 600, Точність на тестовому наборі: 1.0\n",
            "Кількість нейронів на вхідному шарі: 800, Точність на тестовому наборі: 0.9666666388511658\n",
            "Кількість нейронів на вхідному шарі: 1200, Точність на тестовому наборі: 1.0\n"
          ]
        }
      ],
      "source": [
        "import tensorflow as tf\n",
        "from tensorflow.keras import models, layers\n",
        "from sklearn.model_selection import train_test_split\n",
        "from sklearn.datasets import load_iris\n",
        "from sklearn.preprocessing import StandardScaler\n",
        "\n",
        "iris = load_iris()\n",
        "X_train, X_test, y_train, y_test = train_test_split(iris.data, iris.target, test_size=0.2, random_state=42)\n",
        "\n",
        "scaler = StandardScaler()\n",
        "X_train = scaler.fit_transform(X_train)\n",
        "X_test = scaler.transform(X_test)\n",
        "\n",
        "def build_and_train_model(num_neurons):\n",
        "    model = models.Sequential([\n",
        "        layers.Dense(num_neurons, activation='relu', input_shape=(4,)),\n",
        "        layers.Dense(3, activation='softmax')  # Вихідний шар для 3 класів Iris\n",
        "    ])\n",
        "\n",
        "    model.compile(optimizer='adam', loss='sparse_categorical_crossentropy', metrics=['accuracy'])\n",
        "    history = model.fit(X_train, y_train, epochs=50, validation_split=0.2, verbose=0)\n",
        "\n",
        "    return model, history\n",
        "\n",
        "num_neurons_list = [400, 600, 800, 1200]\n",
        "\n",
        "# оцінка\n",
        "for num_neurons in num_neurons_list:\n",
        "    model, history = build_and_train_model(num_neurons)\n",
        "\n",
        "    test_loss, test_acc = model.evaluate(X_test, y_test, verbose=0)\n",
        "    print(f'Кількість нейронів на вхідному шарі: {num_neurons}, Точність на тестовому наборі: {test_acc}')"
      ]
    },
    {
      "cell_type": "markdown",
      "source": [
        "Тут точність у більшості випадків 100% тому спробую те саме з іншим набором даних"
      ],
      "metadata": {
        "id": "PZIk90qcoy5-"
      }
    },
    {
      "cell_type": "code",
      "source": [
        "import tensorflow as tf\n",
        "from tensorflow.keras import datasets, layers, models\n",
        "import matplotlib.pyplot as plt\n",
        "\n",
        "# Завантаження та підготовка даних CIFAR-10\n",
        "(train_images, train_labels), (test_images, test_labels) = datasets.cifar10.load_data()\n",
        "train_images, test_images = train_images / 255.0, test_images / 255.0\n",
        "\n",
        "# Функція для побудови та тренування моделі з різною кількістю нейронів на вхідному шарі\n",
        "def build_and_train_model(num_neurons):\n",
        "    model = models.Sequential([\n",
        "        layers.Flatten(input_shape=(32, 32, 3)),  # Вхідний шар\n",
        "        layers.Dense(num_neurons, activation='relu'),  # Шар з різною кількістю нейронів\n",
        "        layers.Dense(10, activation='softmax')  # Вихідний шар для 10 класів CIFAR-10\n",
        "    ])\n",
        "\n",
        "    model.compile(optimizer='adam', loss='sparse_categorical_crossentropy', metrics=['accuracy'])\n",
        "    history = model.fit(train_images, train_labels, epochs=10, validation_data=(test_images, test_labels))\n",
        "\n",
        "    return model, history\n",
        "\n",
        "# Список кількостей нейронів на вхідному шарі\n",
        "num_neurons_list = [400, 600, 800, 1200]\n",
        "\n",
        "# Побудова, тренування та оцінка моделей для кожної кількості нейронів\n",
        "for num_neurons in num_neurons_list:\n",
        "    model, history = build_and_train_model(num_neurons)\n",
        "\n",
        "    test_loss, test_acc = model.evaluate(test_images, test_labels, verbose=0)\n",
        "    print(f'Кількість нейронів на вхідному шарі: {num_neurons}, Точність на тестовому наборі: {test_acc}')"
      ],
      "metadata": {
        "colab": {
          "base_uri": "https://localhost:8080/"
        },
        "id": "6MnEv4ZWo5Oe",
        "outputId": "ee481ba1-7cdc-45f4-a754-a8dd4fd74afb"
      },
      "execution_count": 2,
      "outputs": [
        {
          "output_type": "stream",
          "name": "stdout",
          "text": [
            "Downloading data from https://www.cs.toronto.edu/~kriz/cifar-10-python.tar.gz\n",
            "170498071/170498071 [==============================] - 2s 0us/step\n",
            "Epoch 1/10\n",
            "1563/1563 [==============================] - 31s 20ms/step - loss: 1.8935 - accuracy: 0.3248 - val_loss: 1.7499 - val_accuracy: 0.3734\n",
            "Epoch 2/10\n",
            "1563/1563 [==============================] - 30s 19ms/step - loss: 1.7079 - accuracy: 0.3866 - val_loss: 1.6930 - val_accuracy: 0.3912\n",
            "Epoch 3/10\n",
            "1563/1563 [==============================] - 30s 19ms/step - loss: 1.6416 - accuracy: 0.4165 - val_loss: 1.6591 - val_accuracy: 0.4040\n",
            "Epoch 4/10\n",
            "1563/1563 [==============================] - 31s 20ms/step - loss: 1.6012 - accuracy: 0.4292 - val_loss: 1.6056 - val_accuracy: 0.4219\n",
            "Epoch 5/10\n",
            "1563/1563 [==============================] - 30s 19ms/step - loss: 1.5717 - accuracy: 0.4418 - val_loss: 1.5773 - val_accuracy: 0.4373\n",
            "Epoch 6/10\n",
            "1563/1563 [==============================] - 29s 19ms/step - loss: 1.5494 - accuracy: 0.4488 - val_loss: 1.5853 - val_accuracy: 0.4322\n",
            "Epoch 7/10\n",
            "1563/1563 [==============================] - 29s 18ms/step - loss: 1.5263 - accuracy: 0.4568 - val_loss: 1.5978 - val_accuracy: 0.4296\n",
            "Epoch 8/10\n",
            "1563/1563 [==============================] - 29s 19ms/step - loss: 1.5090 - accuracy: 0.4617 - val_loss: 1.5380 - val_accuracy: 0.4535\n",
            "Epoch 9/10\n",
            "1563/1563 [==============================] - 29s 19ms/step - loss: 1.4940 - accuracy: 0.4680 - val_loss: 1.5257 - val_accuracy: 0.4603\n",
            "Epoch 10/10\n",
            "1563/1563 [==============================] - 31s 20ms/step - loss: 1.4879 - accuracy: 0.4695 - val_loss: 1.5398 - val_accuracy: 0.4513\n",
            "Кількість нейронів на вхідному шарі: 400, Точність на тестовому наборі: 0.4512999951839447\n",
            "Epoch 1/10\n",
            "1563/1563 [==============================] - 45s 28ms/step - loss: 1.8820 - accuracy: 0.3301 - val_loss: 1.7482 - val_accuracy: 0.3687\n",
            "Epoch 2/10\n",
            "1563/1563 [==============================] - 43s 27ms/step - loss: 1.6957 - accuracy: 0.3927 - val_loss: 1.6984 - val_accuracy: 0.3916\n",
            "Epoch 3/10\n",
            "1563/1563 [==============================] - 44s 28ms/step - loss: 1.6204 - accuracy: 0.4220 - val_loss: 1.6056 - val_accuracy: 0.4308\n",
            "Epoch 4/10\n",
            "1563/1563 [==============================] - 44s 28ms/step - loss: 1.5830 - accuracy: 0.4359 - val_loss: 1.5905 - val_accuracy: 0.4329\n",
            "Epoch 5/10\n",
            "1563/1563 [==============================] - 44s 28ms/step - loss: 1.5520 - accuracy: 0.4447 - val_loss: 1.5477 - val_accuracy: 0.4505\n",
            "Epoch 6/10\n",
            "1563/1563 [==============================] - 45s 29ms/step - loss: 1.5305 - accuracy: 0.4549 - val_loss: 1.5420 - val_accuracy: 0.4494\n",
            "Epoch 7/10\n",
            "1563/1563 [==============================] - 45s 29ms/step - loss: 1.5099 - accuracy: 0.4621 - val_loss: 1.5499 - val_accuracy: 0.4414\n",
            "Epoch 8/10\n",
            "1563/1563 [==============================] - 45s 29ms/step - loss: 1.4939 - accuracy: 0.4663 - val_loss: 1.5599 - val_accuracy: 0.4343\n",
            "Epoch 9/10\n",
            "1563/1563 [==============================] - 43s 28ms/step - loss: 1.4813 - accuracy: 0.4727 - val_loss: 1.5438 - val_accuracy: 0.4470\n",
            "Epoch 10/10\n",
            "1563/1563 [==============================] - 43s 27ms/step - loss: 1.4659 - accuracy: 0.4773 - val_loss: 1.5785 - val_accuracy: 0.4446\n",
            "Кількість нейронів на вхідному шарі: 600, Точність на тестовому наборі: 0.444599986076355\n",
            "Epoch 1/10\n",
            "1563/1563 [==============================] - 55s 35ms/step - loss: 1.8879 - accuracy: 0.3285 - val_loss: 1.7637 - val_accuracy: 0.3684\n",
            "Epoch 2/10\n",
            "1563/1563 [==============================] - 55s 35ms/step - loss: 1.6993 - accuracy: 0.3929 - val_loss: 1.6414 - val_accuracy: 0.4162\n",
            "Epoch 3/10\n",
            "1563/1563 [==============================] - 56s 36ms/step - loss: 1.6316 - accuracy: 0.4202 - val_loss: 1.5825 - val_accuracy: 0.4361\n",
            "Epoch 4/10\n",
            "1563/1563 [==============================] - 53s 34ms/step - loss: 1.5818 - accuracy: 0.4369 - val_loss: 1.5731 - val_accuracy: 0.4424\n",
            "Epoch 5/10\n",
            "1563/1563 [==============================] - 53s 34ms/step - loss: 1.5509 - accuracy: 0.4494 - val_loss: 1.5467 - val_accuracy: 0.4449\n",
            "Epoch 6/10\n",
            "1563/1563 [==============================] - 53s 34ms/step - loss: 1.5248 - accuracy: 0.4591 - val_loss: 1.5359 - val_accuracy: 0.4634\n",
            "Epoch 7/10\n",
            "1563/1563 [==============================] - 53s 34ms/step - loss: 1.5107 - accuracy: 0.4640 - val_loss: 1.5192 - val_accuracy: 0.4629\n",
            "Epoch 8/10\n",
            "1563/1563 [==============================] - 55s 35ms/step - loss: 1.4885 - accuracy: 0.4725 - val_loss: 1.5154 - val_accuracy: 0.4598\n",
            "Epoch 9/10\n",
            "1563/1563 [==============================] - 53s 34ms/step - loss: 1.4769 - accuracy: 0.4753 - val_loss: 1.5162 - val_accuracy: 0.4625\n",
            "Epoch 10/10\n",
            "1563/1563 [==============================] - 53s 34ms/step - loss: 1.4620 - accuracy: 0.4813 - val_loss: 1.4889 - val_accuracy: 0.4691\n",
            "Кількість нейронів на вхідному шарі: 800, Точність на тестовому наборі: 0.4690999984741211\n",
            "Epoch 1/10\n",
            "1563/1563 [==============================] - 79s 50ms/step - loss: 1.9089 - accuracy: 0.3278 - val_loss: 1.7632 - val_accuracy: 0.3665\n",
            "Epoch 2/10\n",
            "1563/1563 [==============================] - 81s 52ms/step - loss: 1.6871 - accuracy: 0.4004 - val_loss: 1.6533 - val_accuracy: 0.4149\n",
            "Epoch 3/10\n",
            "1563/1563 [==============================] - 83s 53ms/step - loss: 1.6270 - accuracy: 0.4190 - val_loss: 1.6050 - val_accuracy: 0.4311\n",
            "Epoch 4/10\n",
            "1563/1563 [==============================] - 82s 52ms/step - loss: 1.5822 - accuracy: 0.4345 - val_loss: 1.5618 - val_accuracy: 0.4411\n",
            "Epoch 5/10\n",
            "1563/1563 [==============================] - 80s 51ms/step - loss: 1.5525 - accuracy: 0.4461 - val_loss: 1.5591 - val_accuracy: 0.4494\n",
            "Epoch 6/10\n",
            "1563/1563 [==============================] - 81s 52ms/step - loss: 1.5368 - accuracy: 0.4543 - val_loss: 1.5700 - val_accuracy: 0.4417\n",
            "Epoch 7/10\n",
            "1563/1563 [==============================] - 83s 53ms/step - loss: 1.5142 - accuracy: 0.4604 - val_loss: 1.5456 - val_accuracy: 0.4540\n",
            "Epoch 8/10\n",
            "1563/1563 [==============================] - 81s 52ms/step - loss: 1.5007 - accuracy: 0.4666 - val_loss: 1.5638 - val_accuracy: 0.4516\n",
            "Epoch 9/10\n",
            "1563/1563 [==============================] - 83s 53ms/step - loss: 1.4878 - accuracy: 0.4692 - val_loss: 1.4961 - val_accuracy: 0.4699\n",
            "Epoch 10/10\n",
            "1563/1563 [==============================] - 80s 51ms/step - loss: 1.4728 - accuracy: 0.4769 - val_loss: 1.5506 - val_accuracy: 0.4509\n",
            "Кількість нейронів на вхідному шарі: 1200, Точність на тестовому наборі: 0.45089998841285706\n"
          ]
        }
      ]
    },
    {
      "cell_type": "code",
      "source": [
        "def build_and_train_model():\n",
        "    model = models.Sequential([\n",
        "        layers.Flatten(input_shape=(32, 32, 3)),  # Вхідний шар\n",
        "        layers.Dense(3072, activation='relu'),  # Шар з різною кількістю нейронів\n",
        "        layers.Dense(10, activation='softmax')  # Вихідний шар для 10 класів CIFAR-10\n",
        "    ])\n",
        "\n",
        "    model.compile(optimizer='adam', loss='sparse_categorical_crossentropy', metrics=['accuracy'])\n",
        "    history = model.fit(train_images, train_labels, epochs=10, validation_data=(test_images, test_labels))\n",
        "\n",
        "    return model, history\n",
        "\n",
        "model, history = build_and_train_model()\n",
        "test_loss, test_acc = model.evaluate(test_images, test_labels, verbose=0)\n",
        "print(f'Кількість нейронів на вхідному шарі: 3072, Точність на тестовому наборі: {test_acc}')"
      ],
      "metadata": {
        "colab": {
          "base_uri": "https://localhost:8080/"
        },
        "id": "u2DL0Gs3yFa-",
        "outputId": "97de79c2-9809-4268-b892-5903e8b63677"
      },
      "execution_count": 5,
      "outputs": [
        {
          "output_type": "stream",
          "name": "stdout",
          "text": [
            "Epoch 1/10\n",
            "1563/1563 [==============================] - 264s 168ms/step - loss: 1.9235 - accuracy: 0.3322 - val_loss: 1.7004 - val_accuracy: 0.3931\n",
            "Epoch 2/10\n",
            "1563/1563 [==============================] - 249s 160ms/step - loss: 1.6843 - accuracy: 0.3966 - val_loss: 1.6305 - val_accuracy: 0.4120\n",
            "Epoch 3/10\n",
            "1563/1563 [==============================] - 268s 171ms/step - loss: 1.6021 - accuracy: 0.4317 - val_loss: 1.6106 - val_accuracy: 0.4268\n",
            "Epoch 4/10\n",
            "1563/1563 [==============================] - 257s 164ms/step - loss: 1.5613 - accuracy: 0.4415 - val_loss: 1.5835 - val_accuracy: 0.4299\n",
            "Epoch 5/10\n",
            "1563/1563 [==============================] - 273s 175ms/step - loss: 1.5329 - accuracy: 0.4548 - val_loss: 1.5935 - val_accuracy: 0.4392\n",
            "Epoch 6/10\n",
            "1563/1563 [==============================] - 263s 168ms/step - loss: 1.5142 - accuracy: 0.4598 - val_loss: 1.5190 - val_accuracy: 0.4662\n",
            "Epoch 7/10\n",
            "1563/1563 [==============================] - 257s 165ms/step - loss: 1.4922 - accuracy: 0.4697 - val_loss: 1.5162 - val_accuracy: 0.4628\n",
            "Epoch 8/10\n",
            "1563/1563 [==============================] - 272s 174ms/step - loss: 1.4711 - accuracy: 0.4757 - val_loss: 1.5678 - val_accuracy: 0.4453\n",
            "Epoch 9/10\n",
            "1563/1563 [==============================] - 256s 164ms/step - loss: 1.4569 - accuracy: 0.4805 - val_loss: 1.5192 - val_accuracy: 0.4651\n",
            "Epoch 10/10\n",
            "1563/1563 [==============================] - 268s 171ms/step - loss: 1.4436 - accuracy: 0.4845 - val_loss: 1.4941 - val_accuracy: 0.4760\n",
            "Кількість нейронів на вхідному шарі: 3072, Точність на тестовому наборі: 0.47600001096725464\n"
          ]
        }
      ]
    },
    {
      "cell_type": "code",
      "source": [
        "def build_and_train_model():\n",
        "    model = models.Sequential([\n",
        "        layers.Flatten(input_shape=(32, 32, 3)),  # Вхідний шар\n",
        "        layers.Dense(350, activation='relu'),  # Шар з різною кількістю нейронів\n",
        "        layers.Dense(10, activation='softmax')  # Вихідний шар для 10 класів CIFAR-10\n",
        "    ])\n",
        "\n",
        "    model.compile(optimizer='adam', loss='sparse_categorical_crossentropy', metrics=['accuracy'])\n",
        "    history = model.fit(train_images, train_labels, epochs=10, validation_data=(test_images, test_labels))\n",
        "\n",
        "    return model, history\n",
        "\n",
        "model, history = build_and_train_model()\n",
        "test_loss, test_acc = model.evaluate(test_images, test_labels, verbose=0)\n",
        "print(f'Кількість нейронів на вхідному шарі: 350, Точність на тестовому наборі: {test_acc}')"
      ],
      "metadata": {
        "colab": {
          "base_uri": "https://localhost:8080/"
        },
        "id": "Sn35qu5B9b7X",
        "outputId": "13ef445a-49bc-462a-f7e6-53864f28b9ba"
      },
      "execution_count": 6,
      "outputs": [
        {
          "output_type": "stream",
          "name": "stdout",
          "text": [
            "Epoch 1/10\n",
            "1563/1563 [==============================] - 28s 18ms/step - loss: 1.8898 - accuracy: 0.3261 - val_loss: 1.7092 - val_accuracy: 0.3937\n",
            "Epoch 2/10\n",
            "1563/1563 [==============================] - 27s 17ms/step - loss: 1.7058 - accuracy: 0.3902 - val_loss: 1.7055 - val_accuracy: 0.3917\n",
            "Epoch 3/10\n",
            "1563/1563 [==============================] - 27s 17ms/step - loss: 1.6413 - accuracy: 0.4185 - val_loss: 1.6722 - val_accuracy: 0.4007\n",
            "Epoch 4/10\n",
            "1563/1563 [==============================] - 27s 17ms/step - loss: 1.6024 - accuracy: 0.4293 - val_loss: 1.5793 - val_accuracy: 0.4402\n",
            "Epoch 5/10\n",
            "1563/1563 [==============================] - 32s 20ms/step - loss: 1.5705 - accuracy: 0.4436 - val_loss: 1.5688 - val_accuracy: 0.4373\n",
            "Epoch 6/10\n",
            "1563/1563 [==============================] - 27s 17ms/step - loss: 1.5509 - accuracy: 0.4491 - val_loss: 1.5717 - val_accuracy: 0.4304\n",
            "Epoch 7/10\n",
            "1563/1563 [==============================] - 26s 16ms/step - loss: 1.5368 - accuracy: 0.4530 - val_loss: 1.5891 - val_accuracy: 0.4334\n",
            "Epoch 8/10\n",
            "1563/1563 [==============================] - 31s 20ms/step - loss: 1.5211 - accuracy: 0.4600 - val_loss: 1.5426 - val_accuracy: 0.4544\n",
            "Epoch 9/10\n",
            "1563/1563 [==============================] - 27s 17ms/step - loss: 1.5087 - accuracy: 0.4644 - val_loss: 1.5912 - val_accuracy: 0.4350\n",
            "Epoch 10/10\n",
            "1563/1563 [==============================] - 27s 18ms/step - loss: 1.4976 - accuracy: 0.4699 - val_loss: 1.5554 - val_accuracy: 0.4533\n",
            "Кількість нейронів на вхідному шарі: 350, Точність на тестовому наборі: 0.45329999923706055\n"
          ]
        }
      ]
    },
    {
      "cell_type": "code",
      "source": [
        "def build_and_train_model(num_neurons_input, num_neurons_hidden):\n",
        "    model = models.Sequential([\n",
        "        layers.Flatten(input_shape=(32, 32, 3)),  # Вхідний шар\n",
        "        layers.Dense(num_neurons_input, activation='relu'),  # Вхідний шар\n",
        "        layers.Dense(num_neurons_hidden, activation='relu'),  # Прихований шар\n",
        "        layers.Dense(10, activation='softmax')  # Вихідний шар для 10 класів CIFAR-10\n",
        "    ])\n",
        "\n",
        "    model.compile(optimizer='adam', loss='sparse_categorical_crossentropy', metrics=['accuracy'])\n",
        "    history = model.fit(train_images, train_labels, epochs=10, validation_data=(test_images, test_labels))\n",
        "\n",
        "    return model, history\n",
        "\n",
        "model, history = build_and_train_model(350, 100)\n",
        "test_loss, test_acc = model.evaluate(test_images, test_labels, verbose=0)\n",
        "print(f'Вхідні нейрони: {350}, Приховані нейрони: {num_neurons_hidden}, Точність на тестовому наборі: {test_acc}')"
      ],
      "metadata": {
        "colab": {
          "base_uri": "https://localhost:8080/",
          "height": 789
        },
        "id": "I86rUAl_-mbq",
        "outputId": "d29f8848-6d82-41f4-b32f-0f5f79fc69ef"
      },
      "execution_count": 22,
      "outputs": [
        {
          "output_type": "stream",
          "name": "stdout",
          "text": [
            "Epoch 1/10\n",
            "1563/1563 [==============================] - 36s 23ms/step - loss: 12.4512 - accuracy: 0.1080 - val_loss: 2.3026 - val_accuracy: 0.1000\n",
            "Epoch 2/10\n",
            "1563/1563 [==============================] - 28s 18ms/step - loss: 2.3027 - accuracy: 0.0986 - val_loss: 2.3026 - val_accuracy: 0.1001\n",
            "Epoch 3/10\n",
            "1563/1563 [==============================] - 29s 18ms/step - loss: 2.4266 - accuracy: 0.0991 - val_loss: 2.3027 - val_accuracy: 0.1000\n",
            "Epoch 4/10\n",
            "1563/1563 [==============================] - 28s 18ms/step - loss: 2.3028 - accuracy: 0.0975 - val_loss: 2.3026 - val_accuracy: 0.1000\n",
            "Epoch 5/10\n",
            "1563/1563 [==============================] - 29s 18ms/step - loss: 2.3028 - accuracy: 0.0992 - val_loss: 2.3026 - val_accuracy: 0.1000\n",
            "Epoch 6/10\n",
            "1563/1563 [==============================] - 28s 18ms/step - loss: 2.3027 - accuracy: 0.0991 - val_loss: 2.3027 - val_accuracy: 0.1000\n",
            "Epoch 7/10\n",
            "1563/1563 [==============================] - 29s 18ms/step - loss: 2.3028 - accuracy: 0.0977 - val_loss: 2.3026 - val_accuracy: 0.1000\n",
            "Epoch 8/10\n",
            "1563/1563 [==============================] - 29s 18ms/step - loss: 2.3028 - accuracy: 0.0982 - val_loss: 2.3026 - val_accuracy: 0.1000\n",
            "Epoch 9/10\n",
            "1563/1563 [==============================] - 32s 20ms/step - loss: 2.3028 - accuracy: 0.0982 - val_loss: 2.3026 - val_accuracy: 0.1000\n",
            "Epoch 10/10\n",
            "1563/1563 [==============================] - 34s 22ms/step - loss: 2.3028 - accuracy: 0.0986 - val_loss: 2.3026 - val_accuracy: 0.1000\n",
            "Вхідні нейрони: 350, Приховані нейрони: 200, Точність на тестовому наборі: 0.10000000149011612\n",
            "Epoch 1/10\n",
            " 820/1563 [==============>...............] - ETA: 13s - loss: 17.9507 - accuracy: 0.1150"
          ]
        },
        {
          "output_type": "error",
          "ename": "KeyboardInterrupt",
          "evalue": "ignored",
          "traceback": [
            "\u001b[0;31m---------------------------------------------------------------------------\u001b[0m",
            "\u001b[0;31mKeyboardInterrupt\u001b[0m                         Traceback (most recent call last)",
            "\u001b[0;32m<ipython-input-22-41d61c348480>\u001b[0m in \u001b[0;36m<cell line: 14>\u001b[0;34m()\u001b[0m\n\u001b[1;32m     13\u001b[0m \u001b[0;34m\u001b[0m\u001b[0m\n\u001b[1;32m     14\u001b[0m \u001b[0;32mfor\u001b[0m \u001b[0mnum_neurons_hidden\u001b[0m \u001b[0;32min\u001b[0m \u001b[0mnum_neurons_hidden_list\u001b[0m\u001b[0;34m:\u001b[0m\u001b[0;34m\u001b[0m\u001b[0;34m\u001b[0m\u001b[0m\n\u001b[0;32m---> 15\u001b[0;31m       \u001b[0mmodel\u001b[0m\u001b[0;34m,\u001b[0m \u001b[0mhistory\u001b[0m \u001b[0;34m=\u001b[0m \u001b[0mbuild_and_train_model\u001b[0m\u001b[0;34m(\u001b[0m\u001b[0;36m350\u001b[0m\u001b[0;34m,\u001b[0m \u001b[0;36m100\u001b[0m\u001b[0;34m)\u001b[0m\u001b[0;34m\u001b[0m\u001b[0;34m\u001b[0m\u001b[0m\n\u001b[0m\u001b[1;32m     16\u001b[0m \u001b[0;34m\u001b[0m\u001b[0m\n\u001b[1;32m     17\u001b[0m       \u001b[0mtest_loss\u001b[0m\u001b[0;34m,\u001b[0m \u001b[0mtest_acc\u001b[0m \u001b[0;34m=\u001b[0m \u001b[0mmodel\u001b[0m\u001b[0;34m.\u001b[0m\u001b[0mevaluate\u001b[0m\u001b[0;34m(\u001b[0m\u001b[0mtest_images\u001b[0m\u001b[0;34m,\u001b[0m \u001b[0mtest_labels\u001b[0m\u001b[0;34m,\u001b[0m \u001b[0mverbose\u001b[0m\u001b[0;34m=\u001b[0m\u001b[0;36m0\u001b[0m\u001b[0;34m)\u001b[0m\u001b[0;34m\u001b[0m\u001b[0;34m\u001b[0m\u001b[0m\n",
            "\u001b[0;32m<ipython-input-22-41d61c348480>\u001b[0m in \u001b[0;36mbuild_and_train_model\u001b[0;34m(num_neurons_input, num_neurons_hidden)\u001b[0m\n\u001b[1;32m      8\u001b[0m \u001b[0;34m\u001b[0m\u001b[0m\n\u001b[1;32m      9\u001b[0m     \u001b[0mmodel\u001b[0m\u001b[0;34m.\u001b[0m\u001b[0mcompile\u001b[0m\u001b[0;34m(\u001b[0m\u001b[0moptimizer\u001b[0m\u001b[0;34m=\u001b[0m\u001b[0;34m'adam'\u001b[0m\u001b[0;34m,\u001b[0m \u001b[0mloss\u001b[0m\u001b[0;34m=\u001b[0m\u001b[0;34m'sparse_categorical_crossentropy'\u001b[0m\u001b[0;34m,\u001b[0m \u001b[0mmetrics\u001b[0m\u001b[0;34m=\u001b[0m\u001b[0;34m[\u001b[0m\u001b[0;34m'accuracy'\u001b[0m\u001b[0;34m]\u001b[0m\u001b[0;34m)\u001b[0m\u001b[0;34m\u001b[0m\u001b[0;34m\u001b[0m\u001b[0m\n\u001b[0;32m---> 10\u001b[0;31m     \u001b[0mhistory\u001b[0m \u001b[0;34m=\u001b[0m \u001b[0mmodel\u001b[0m\u001b[0;34m.\u001b[0m\u001b[0mfit\u001b[0m\u001b[0;34m(\u001b[0m\u001b[0mtrain_images\u001b[0m\u001b[0;34m,\u001b[0m \u001b[0mtrain_labels\u001b[0m\u001b[0;34m,\u001b[0m \u001b[0mepochs\u001b[0m\u001b[0;34m=\u001b[0m\u001b[0;36m10\u001b[0m\u001b[0;34m,\u001b[0m \u001b[0mvalidation_data\u001b[0m\u001b[0;34m=\u001b[0m\u001b[0;34m(\u001b[0m\u001b[0mtest_images\u001b[0m\u001b[0;34m,\u001b[0m \u001b[0mtest_labels\u001b[0m\u001b[0;34m)\u001b[0m\u001b[0;34m)\u001b[0m\u001b[0;34m\u001b[0m\u001b[0;34m\u001b[0m\u001b[0m\n\u001b[0m\u001b[1;32m     11\u001b[0m \u001b[0;34m\u001b[0m\u001b[0m\n\u001b[1;32m     12\u001b[0m     \u001b[0;32mreturn\u001b[0m \u001b[0mmodel\u001b[0m\u001b[0;34m,\u001b[0m \u001b[0mhistory\u001b[0m\u001b[0;34m\u001b[0m\u001b[0;34m\u001b[0m\u001b[0m\n",
            "\u001b[0;32m/usr/local/lib/python3.10/dist-packages/keras/src/utils/traceback_utils.py\u001b[0m in \u001b[0;36merror_handler\u001b[0;34m(*args, **kwargs)\u001b[0m\n\u001b[1;32m     63\u001b[0m         \u001b[0mfiltered_tb\u001b[0m \u001b[0;34m=\u001b[0m \u001b[0;32mNone\u001b[0m\u001b[0;34m\u001b[0m\u001b[0;34m\u001b[0m\u001b[0m\n\u001b[1;32m     64\u001b[0m         \u001b[0;32mtry\u001b[0m\u001b[0;34m:\u001b[0m\u001b[0;34m\u001b[0m\u001b[0;34m\u001b[0m\u001b[0m\n\u001b[0;32m---> 65\u001b[0;31m             \u001b[0;32mreturn\u001b[0m \u001b[0mfn\u001b[0m\u001b[0;34m(\u001b[0m\u001b[0;34m*\u001b[0m\u001b[0margs\u001b[0m\u001b[0;34m,\u001b[0m \u001b[0;34m**\u001b[0m\u001b[0mkwargs\u001b[0m\u001b[0;34m)\u001b[0m\u001b[0;34m\u001b[0m\u001b[0;34m\u001b[0m\u001b[0m\n\u001b[0m\u001b[1;32m     66\u001b[0m         \u001b[0;32mexcept\u001b[0m \u001b[0mException\u001b[0m \u001b[0;32mas\u001b[0m \u001b[0me\u001b[0m\u001b[0;34m:\u001b[0m\u001b[0;34m\u001b[0m\u001b[0;34m\u001b[0m\u001b[0m\n\u001b[1;32m     67\u001b[0m             \u001b[0mfiltered_tb\u001b[0m \u001b[0;34m=\u001b[0m \u001b[0m_process_traceback_frames\u001b[0m\u001b[0;34m(\u001b[0m\u001b[0me\u001b[0m\u001b[0;34m.\u001b[0m\u001b[0m__traceback__\u001b[0m\u001b[0;34m)\u001b[0m\u001b[0;34m\u001b[0m\u001b[0;34m\u001b[0m\u001b[0m\n",
            "\u001b[0;32m/usr/local/lib/python3.10/dist-packages/keras/src/engine/training.py\u001b[0m in \u001b[0;36mfit\u001b[0;34m(self, x, y, batch_size, epochs, verbose, callbacks, validation_split, validation_data, shuffle, class_weight, sample_weight, initial_epoch, steps_per_epoch, validation_steps, validation_batch_size, validation_freq, max_queue_size, workers, use_multiprocessing)\u001b[0m\n\u001b[1;32m   1781\u001b[0m                         ):\n\u001b[1;32m   1782\u001b[0m                             \u001b[0mcallbacks\u001b[0m\u001b[0;34m.\u001b[0m\u001b[0mon_train_batch_begin\u001b[0m\u001b[0;34m(\u001b[0m\u001b[0mstep\u001b[0m\u001b[0;34m)\u001b[0m\u001b[0;34m\u001b[0m\u001b[0;34m\u001b[0m\u001b[0m\n\u001b[0;32m-> 1783\u001b[0;31m                             \u001b[0mtmp_logs\u001b[0m \u001b[0;34m=\u001b[0m \u001b[0mself\u001b[0m\u001b[0;34m.\u001b[0m\u001b[0mtrain_function\u001b[0m\u001b[0;34m(\u001b[0m\u001b[0miterator\u001b[0m\u001b[0;34m)\u001b[0m\u001b[0;34m\u001b[0m\u001b[0;34m\u001b[0m\u001b[0m\n\u001b[0m\u001b[1;32m   1784\u001b[0m                             \u001b[0;32mif\u001b[0m \u001b[0mdata_handler\u001b[0m\u001b[0;34m.\u001b[0m\u001b[0mshould_sync\u001b[0m\u001b[0;34m:\u001b[0m\u001b[0;34m\u001b[0m\u001b[0;34m\u001b[0m\u001b[0m\n\u001b[1;32m   1785\u001b[0m                                 \u001b[0mcontext\u001b[0m\u001b[0;34m.\u001b[0m\u001b[0masync_wait\u001b[0m\u001b[0;34m(\u001b[0m\u001b[0;34m)\u001b[0m\u001b[0;34m\u001b[0m\u001b[0;34m\u001b[0m\u001b[0m\n",
            "\u001b[0;32m/usr/local/lib/python3.10/dist-packages/tensorflow/python/util/traceback_utils.py\u001b[0m in \u001b[0;36merror_handler\u001b[0;34m(*args, **kwargs)\u001b[0m\n\u001b[1;32m    148\u001b[0m     \u001b[0mfiltered_tb\u001b[0m \u001b[0;34m=\u001b[0m \u001b[0;32mNone\u001b[0m\u001b[0;34m\u001b[0m\u001b[0;34m\u001b[0m\u001b[0m\n\u001b[1;32m    149\u001b[0m     \u001b[0;32mtry\u001b[0m\u001b[0;34m:\u001b[0m\u001b[0;34m\u001b[0m\u001b[0;34m\u001b[0m\u001b[0m\n\u001b[0;32m--> 150\u001b[0;31m       \u001b[0;32mreturn\u001b[0m \u001b[0mfn\u001b[0m\u001b[0;34m(\u001b[0m\u001b[0;34m*\u001b[0m\u001b[0margs\u001b[0m\u001b[0;34m,\u001b[0m \u001b[0;34m**\u001b[0m\u001b[0mkwargs\u001b[0m\u001b[0;34m)\u001b[0m\u001b[0;34m\u001b[0m\u001b[0;34m\u001b[0m\u001b[0m\n\u001b[0m\u001b[1;32m    151\u001b[0m     \u001b[0;32mexcept\u001b[0m \u001b[0mException\u001b[0m \u001b[0;32mas\u001b[0m \u001b[0me\u001b[0m\u001b[0;34m:\u001b[0m\u001b[0;34m\u001b[0m\u001b[0;34m\u001b[0m\u001b[0m\n\u001b[1;32m    152\u001b[0m       \u001b[0mfiltered_tb\u001b[0m \u001b[0;34m=\u001b[0m \u001b[0m_process_traceback_frames\u001b[0m\u001b[0;34m(\u001b[0m\u001b[0me\u001b[0m\u001b[0;34m.\u001b[0m\u001b[0m__traceback__\u001b[0m\u001b[0;34m)\u001b[0m\u001b[0;34m\u001b[0m\u001b[0;34m\u001b[0m\u001b[0m\n",
            "\u001b[0;32m/usr/local/lib/python3.10/dist-packages/tensorflow/python/eager/polymorphic_function/polymorphic_function.py\u001b[0m in \u001b[0;36m__call__\u001b[0;34m(self, *args, **kwds)\u001b[0m\n\u001b[1;32m    829\u001b[0m \u001b[0;34m\u001b[0m\u001b[0m\n\u001b[1;32m    830\u001b[0m       \u001b[0;32mwith\u001b[0m \u001b[0mOptionalXlaContext\u001b[0m\u001b[0;34m(\u001b[0m\u001b[0mself\u001b[0m\u001b[0;34m.\u001b[0m\u001b[0m_jit_compile\u001b[0m\u001b[0;34m)\u001b[0m\u001b[0;34m:\u001b[0m\u001b[0;34m\u001b[0m\u001b[0;34m\u001b[0m\u001b[0m\n\u001b[0;32m--> 831\u001b[0;31m         \u001b[0mresult\u001b[0m \u001b[0;34m=\u001b[0m \u001b[0mself\u001b[0m\u001b[0;34m.\u001b[0m\u001b[0m_call\u001b[0m\u001b[0;34m(\u001b[0m\u001b[0;34m*\u001b[0m\u001b[0margs\u001b[0m\u001b[0;34m,\u001b[0m \u001b[0;34m**\u001b[0m\u001b[0mkwds\u001b[0m\u001b[0;34m)\u001b[0m\u001b[0;34m\u001b[0m\u001b[0;34m\u001b[0m\u001b[0m\n\u001b[0m\u001b[1;32m    832\u001b[0m \u001b[0;34m\u001b[0m\u001b[0m\n\u001b[1;32m    833\u001b[0m       \u001b[0mnew_tracing_count\u001b[0m \u001b[0;34m=\u001b[0m \u001b[0mself\u001b[0m\u001b[0;34m.\u001b[0m\u001b[0mexperimental_get_tracing_count\u001b[0m\u001b[0;34m(\u001b[0m\u001b[0;34m)\u001b[0m\u001b[0;34m\u001b[0m\u001b[0;34m\u001b[0m\u001b[0m\n",
            "\u001b[0;32m/usr/local/lib/python3.10/dist-packages/tensorflow/python/eager/polymorphic_function/polymorphic_function.py\u001b[0m in \u001b[0;36m_call\u001b[0;34m(self, *args, **kwds)\u001b[0m\n\u001b[1;32m    865\u001b[0m       \u001b[0;31m# In this case we have created variables on the first call, so we run the\u001b[0m\u001b[0;34m\u001b[0m\u001b[0;34m\u001b[0m\u001b[0m\n\u001b[1;32m    866\u001b[0m       \u001b[0;31m# defunned version which is guaranteed to never create variables.\u001b[0m\u001b[0;34m\u001b[0m\u001b[0;34m\u001b[0m\u001b[0m\n\u001b[0;32m--> 867\u001b[0;31m       return tracing_compilation.call_function(\n\u001b[0m\u001b[1;32m    868\u001b[0m           \u001b[0margs\u001b[0m\u001b[0;34m,\u001b[0m \u001b[0mkwds\u001b[0m\u001b[0;34m,\u001b[0m \u001b[0mself\u001b[0m\u001b[0;34m.\u001b[0m\u001b[0m_no_variable_creation_config\u001b[0m\u001b[0;34m\u001b[0m\u001b[0;34m\u001b[0m\u001b[0m\n\u001b[1;32m    869\u001b[0m       )\n",
            "\u001b[0;32m/usr/local/lib/python3.10/dist-packages/tensorflow/python/eager/polymorphic_function/tracing_compilation.py\u001b[0m in \u001b[0;36mcall_function\u001b[0;34m(args, kwargs, tracing_options)\u001b[0m\n\u001b[1;32m    137\u001b[0m   \u001b[0mbound_args\u001b[0m \u001b[0;34m=\u001b[0m \u001b[0mfunction\u001b[0m\u001b[0;34m.\u001b[0m\u001b[0mfunction_type\u001b[0m\u001b[0;34m.\u001b[0m\u001b[0mbind\u001b[0m\u001b[0;34m(\u001b[0m\u001b[0;34m*\u001b[0m\u001b[0margs\u001b[0m\u001b[0;34m,\u001b[0m \u001b[0;34m**\u001b[0m\u001b[0mkwargs\u001b[0m\u001b[0;34m)\u001b[0m\u001b[0;34m\u001b[0m\u001b[0;34m\u001b[0m\u001b[0m\n\u001b[1;32m    138\u001b[0m   \u001b[0mflat_inputs\u001b[0m \u001b[0;34m=\u001b[0m \u001b[0mfunction\u001b[0m\u001b[0;34m.\u001b[0m\u001b[0mfunction_type\u001b[0m\u001b[0;34m.\u001b[0m\u001b[0munpack_inputs\u001b[0m\u001b[0;34m(\u001b[0m\u001b[0mbound_args\u001b[0m\u001b[0;34m)\u001b[0m\u001b[0;34m\u001b[0m\u001b[0;34m\u001b[0m\u001b[0m\n\u001b[0;32m--> 139\u001b[0;31m   return function._call_flat(  # pylint: disable=protected-access\n\u001b[0m\u001b[1;32m    140\u001b[0m       \u001b[0mflat_inputs\u001b[0m\u001b[0;34m,\u001b[0m \u001b[0mcaptured_inputs\u001b[0m\u001b[0;34m=\u001b[0m\u001b[0mfunction\u001b[0m\u001b[0;34m.\u001b[0m\u001b[0mcaptured_inputs\u001b[0m\u001b[0;34m\u001b[0m\u001b[0;34m\u001b[0m\u001b[0m\n\u001b[1;32m    141\u001b[0m   )\n",
            "\u001b[0;32m/usr/local/lib/python3.10/dist-packages/tensorflow/python/eager/polymorphic_function/concrete_function.py\u001b[0m in \u001b[0;36m_call_flat\u001b[0;34m(self, tensor_inputs, captured_inputs)\u001b[0m\n\u001b[1;32m   1262\u001b[0m         and executing_eagerly):\n\u001b[1;32m   1263\u001b[0m       \u001b[0;31m# No tape is watching; skip to running the function.\u001b[0m\u001b[0;34m\u001b[0m\u001b[0;34m\u001b[0m\u001b[0m\n\u001b[0;32m-> 1264\u001b[0;31m       \u001b[0;32mreturn\u001b[0m \u001b[0mself\u001b[0m\u001b[0;34m.\u001b[0m\u001b[0m_inference_function\u001b[0m\u001b[0;34m.\u001b[0m\u001b[0mflat_call\u001b[0m\u001b[0;34m(\u001b[0m\u001b[0margs\u001b[0m\u001b[0;34m)\u001b[0m\u001b[0;34m\u001b[0m\u001b[0;34m\u001b[0m\u001b[0m\n\u001b[0m\u001b[1;32m   1265\u001b[0m     forward_backward = self._select_forward_and_backward_functions(\n\u001b[1;32m   1266\u001b[0m         \u001b[0margs\u001b[0m\u001b[0;34m,\u001b[0m\u001b[0;34m\u001b[0m\u001b[0;34m\u001b[0m\u001b[0m\n",
            "\u001b[0;32m/usr/local/lib/python3.10/dist-packages/tensorflow/python/eager/polymorphic_function/atomic_function.py\u001b[0m in \u001b[0;36mflat_call\u001b[0;34m(self, args)\u001b[0m\n\u001b[1;32m    215\u001b[0m   \u001b[0;32mdef\u001b[0m \u001b[0mflat_call\u001b[0m\u001b[0;34m(\u001b[0m\u001b[0mself\u001b[0m\u001b[0;34m,\u001b[0m \u001b[0margs\u001b[0m\u001b[0;34m:\u001b[0m \u001b[0mSequence\u001b[0m\u001b[0;34m[\u001b[0m\u001b[0mcore\u001b[0m\u001b[0;34m.\u001b[0m\u001b[0mTensor\u001b[0m\u001b[0;34m]\u001b[0m\u001b[0;34m)\u001b[0m \u001b[0;34m->\u001b[0m \u001b[0mAny\u001b[0m\u001b[0;34m:\u001b[0m\u001b[0;34m\u001b[0m\u001b[0;34m\u001b[0m\u001b[0m\n\u001b[1;32m    216\u001b[0m     \u001b[0;34m\"\"\"Calls with tensor inputs and returns the structured output.\"\"\"\u001b[0m\u001b[0;34m\u001b[0m\u001b[0;34m\u001b[0m\u001b[0m\n\u001b[0;32m--> 217\u001b[0;31m     \u001b[0mflat_outputs\u001b[0m \u001b[0;34m=\u001b[0m \u001b[0mself\u001b[0m\u001b[0;34m(\u001b[0m\u001b[0;34m*\u001b[0m\u001b[0margs\u001b[0m\u001b[0;34m)\u001b[0m\u001b[0;34m\u001b[0m\u001b[0;34m\u001b[0m\u001b[0m\n\u001b[0m\u001b[1;32m    218\u001b[0m     \u001b[0;32mreturn\u001b[0m \u001b[0mself\u001b[0m\u001b[0;34m.\u001b[0m\u001b[0mfunction_type\u001b[0m\u001b[0;34m.\u001b[0m\u001b[0mpack_output\u001b[0m\u001b[0;34m(\u001b[0m\u001b[0mflat_outputs\u001b[0m\u001b[0;34m)\u001b[0m\u001b[0;34m\u001b[0m\u001b[0;34m\u001b[0m\u001b[0m\n\u001b[1;32m    219\u001b[0m \u001b[0;34m\u001b[0m\u001b[0m\n",
            "\u001b[0;32m/usr/local/lib/python3.10/dist-packages/tensorflow/python/eager/polymorphic_function/atomic_function.py\u001b[0m in \u001b[0;36m__call__\u001b[0;34m(self, *args)\u001b[0m\n\u001b[1;32m    250\u001b[0m         \u001b[0;32mwith\u001b[0m \u001b[0mrecord\u001b[0m\u001b[0;34m.\u001b[0m\u001b[0mstop_recording\u001b[0m\u001b[0;34m(\u001b[0m\u001b[0;34m)\u001b[0m\u001b[0;34m:\u001b[0m\u001b[0;34m\u001b[0m\u001b[0;34m\u001b[0m\u001b[0m\n\u001b[1;32m    251\u001b[0m           \u001b[0;32mif\u001b[0m \u001b[0mself\u001b[0m\u001b[0;34m.\u001b[0m\u001b[0m_bound_context\u001b[0m\u001b[0;34m.\u001b[0m\u001b[0mexecuting_eagerly\u001b[0m\u001b[0;34m(\u001b[0m\u001b[0;34m)\u001b[0m\u001b[0;34m:\u001b[0m\u001b[0;34m\u001b[0m\u001b[0;34m\u001b[0m\u001b[0m\n\u001b[0;32m--> 252\u001b[0;31m             outputs = self._bound_context.call_function(\n\u001b[0m\u001b[1;32m    253\u001b[0m                 \u001b[0mself\u001b[0m\u001b[0;34m.\u001b[0m\u001b[0mname\u001b[0m\u001b[0;34m,\u001b[0m\u001b[0;34m\u001b[0m\u001b[0;34m\u001b[0m\u001b[0m\n\u001b[1;32m    254\u001b[0m                 \u001b[0mlist\u001b[0m\u001b[0;34m(\u001b[0m\u001b[0margs\u001b[0m\u001b[0;34m)\u001b[0m\u001b[0;34m,\u001b[0m\u001b[0;34m\u001b[0m\u001b[0;34m\u001b[0m\u001b[0m\n",
            "\u001b[0;32m/usr/local/lib/python3.10/dist-packages/tensorflow/python/eager/context.py\u001b[0m in \u001b[0;36mcall_function\u001b[0;34m(self, name, tensor_inputs, num_outputs)\u001b[0m\n\u001b[1;32m   1477\u001b[0m     \u001b[0mcancellation_context\u001b[0m \u001b[0;34m=\u001b[0m \u001b[0mcancellation\u001b[0m\u001b[0;34m.\u001b[0m\u001b[0mcontext\u001b[0m\u001b[0;34m(\u001b[0m\u001b[0;34m)\u001b[0m\u001b[0;34m\u001b[0m\u001b[0;34m\u001b[0m\u001b[0m\n\u001b[1;32m   1478\u001b[0m     \u001b[0;32mif\u001b[0m \u001b[0mcancellation_context\u001b[0m \u001b[0;32mis\u001b[0m \u001b[0;32mNone\u001b[0m\u001b[0;34m:\u001b[0m\u001b[0;34m\u001b[0m\u001b[0;34m\u001b[0m\u001b[0m\n\u001b[0;32m-> 1479\u001b[0;31m       outputs = execute.execute(\n\u001b[0m\u001b[1;32m   1480\u001b[0m           \u001b[0mname\u001b[0m\u001b[0;34m.\u001b[0m\u001b[0mdecode\u001b[0m\u001b[0;34m(\u001b[0m\u001b[0;34m\"utf-8\"\u001b[0m\u001b[0;34m)\u001b[0m\u001b[0;34m,\u001b[0m\u001b[0;34m\u001b[0m\u001b[0;34m\u001b[0m\u001b[0m\n\u001b[1;32m   1481\u001b[0m           \u001b[0mnum_outputs\u001b[0m\u001b[0;34m=\u001b[0m\u001b[0mnum_outputs\u001b[0m\u001b[0;34m,\u001b[0m\u001b[0;34m\u001b[0m\u001b[0;34m\u001b[0m\u001b[0m\n",
            "\u001b[0;32m/usr/local/lib/python3.10/dist-packages/tensorflow/python/eager/execute.py\u001b[0m in \u001b[0;36mquick_execute\u001b[0;34m(op_name, num_outputs, inputs, attrs, ctx, name)\u001b[0m\n\u001b[1;32m     58\u001b[0m         \u001b[0;32mfor\u001b[0m \u001b[0mt\u001b[0m \u001b[0;32min\u001b[0m \u001b[0minputs\u001b[0m\u001b[0;34m\u001b[0m\u001b[0;34m\u001b[0m\u001b[0m\n\u001b[1;32m     59\u001b[0m     ]\n\u001b[0;32m---> 60\u001b[0;31m     tensors = pywrap_tfe.TFE_Py_Execute(ctx._handle, device_name, op_name,\n\u001b[0m\u001b[1;32m     61\u001b[0m                                         inputs, attrs, num_outputs)\n\u001b[1;32m     62\u001b[0m   \u001b[0;32mexcept\u001b[0m \u001b[0mcore\u001b[0m\u001b[0;34m.\u001b[0m\u001b[0m_NotOkStatusException\u001b[0m \u001b[0;32mas\u001b[0m \u001b[0me\u001b[0m\u001b[0;34m:\u001b[0m\u001b[0;34m\u001b[0m\u001b[0;34m\u001b[0m\u001b[0m\n",
            "\u001b[0;31mKeyboardInterrupt\u001b[0m: "
          ]
        }
      ]
    },
    {
      "cell_type": "markdown",
      "source": [
        "Не бачу сенсу продовжувати, точність 0.1 що значно менше ніж попередні результати і є рівно 1 вгадування з 10. Отже це перенавчання."
      ],
      "metadata": {
        "id": "cPC8LTGf_8cl"
      }
    }
  ]
}