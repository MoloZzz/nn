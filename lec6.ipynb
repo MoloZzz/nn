{
  "nbformat": 4,
  "nbformat_minor": 0,
  "metadata": {
    "colab": {
      "provenance": [],
      "authorship_tag": "ABX9TyP+OuodDMJdtPrz9MVr6UeZ"
    },
    "kernelspec": {
      "name": "python3",
      "display_name": "Python 3"
    },
    "language_info": {
      "name": "python"
    }
  },
  "cells": [
    {
      "cell_type": "code",
      "execution_count": null,
      "metadata": {
        "id": "M6iX-xBoWPG6"
      },
      "outputs": [],
      "source": [
        "import numpy as np\n",
        "import tensorflow as tf\n",
        "import keras\n",
        "\n",
        "\n",
        "from keras.datasets import mnist\n",
        "\n",
        "(x_train, y_train), (x_val, y_val) = tf.keras.datasets.fashion_mnist.load_data()\n",
        "\n",
        "y_train_oh = keras.utils.to_categorical(y_train, 10)\n",
        "\n",
        "y_val_oh = keras.utils.to_categorical(y_val, 10)"
      ]
    },
    {
      "cell_type": "code",
      "source": [
        "from keras import layers as L\n",
        "from keras import backend as K\n",
        "from keras import models as M\n",
        "\n",
        "K.clear_session()\n",
        "\n",
        "model = M.Sequential()\n",
        "\n",
        "model.add(L.Dense(units=784, activation = 'relu'))\n",
        "\n",
        "model.add(L.Dense(units=128, activation = 'elu'))\n",
        "\n",
        "model.add(L.Dense(units=10, activation = 'softmax'))\n"
      ],
      "metadata": {
        "id": "QTTgxwO8WvXa"
      },
      "execution_count": null,
      "outputs": []
    },
    {
      "cell_type": "code",
      "source": [
        "model.compile(\n",
        "\n",
        "loss='categorical_crossentropy',\n",
        "\n",
        "optimizer='adam',\n",
        "\n",
        "metrics=['accuracy']\n",
        "\n",
        ")"
      ],
      "metadata": {
        "id": "be_PPE3uaXqU"
      },
      "execution_count": null,
      "outputs": []
    },
    {
      "cell_type": "code",
      "source": [
        "x_train_float = x_train.astype(np.float64) / 255 - 0.5\n",
        "\n",
        "x_val_float = x_val.astype(np.float64) / 255 - 0.5"
      ],
      "metadata": {
        "id": "JRtvE9RUaitb"
      },
      "execution_count": null,
      "outputs": []
    },
    {
      "cell_type": "code",
      "source": [
        "model.fit(\n",
        "\n",
        "x_train_float.reshape(-1, 28*28),\n",
        "\n",
        "y_train_oh,\n",
        "\n",
        "batch_size=64,\n",
        "\n",
        "epochs=10,\n",
        "\n",
        "validation_data=(x_val_float.reshape(-1, 28*28), y_val_oh)\n",
        "\n",
        ")"
      ],
      "metadata": {
        "colab": {
          "base_uri": "https://localhost:8080/"
        },
        "id": "S4rOQ96Daqm8",
        "outputId": "5a559378-2b7d-47b0-de01-2697c4b51741"
      },
      "execution_count": null,
      "outputs": [
        {
          "output_type": "stream",
          "name": "stdout",
          "text": [
            "Epoch 1/10\n",
            "938/938 [==============================] - 14s 15ms/step - loss: 0.1885 - accuracy: 0.9277 - val_loss: 0.3462 - val_accuracy: 0.8855\n",
            "Epoch 2/10\n",
            "938/938 [==============================] - 13s 14ms/step - loss: 0.1791 - accuracy: 0.9315 - val_loss: 0.3457 - val_accuracy: 0.8849\n",
            "Epoch 3/10\n",
            "938/938 [==============================] - 13s 14ms/step - loss: 0.1655 - accuracy: 0.9367 - val_loss: 0.3539 - val_accuracy: 0.8896\n",
            "Epoch 4/10\n",
            "938/938 [==============================] - 13s 14ms/step - loss: 0.1610 - accuracy: 0.9383 - val_loss: 0.3737 - val_accuracy: 0.8839\n",
            "Epoch 5/10\n",
            "938/938 [==============================] - 13s 14ms/step - loss: 0.1514 - accuracy: 0.9419 - val_loss: 0.3697 - val_accuracy: 0.8867\n",
            "Epoch 6/10\n",
            "938/938 [==============================] - 14s 14ms/step - loss: 0.1416 - accuracy: 0.9454 - val_loss: 0.3929 - val_accuracy: 0.8845\n",
            "Epoch 7/10\n",
            "938/938 [==============================] - 13s 14ms/step - loss: 0.1365 - accuracy: 0.9478 - val_loss: 0.3780 - val_accuracy: 0.8840\n",
            "Epoch 8/10\n",
            "938/938 [==============================] - 13s 13ms/step - loss: 0.1275 - accuracy: 0.9517 - val_loss: 0.3992 - val_accuracy: 0.8883\n",
            "Epoch 9/10\n",
            "938/938 [==============================] - 13s 14ms/step - loss: 0.1220 - accuracy: 0.9535 - val_loss: 0.3918 - val_accuracy: 0.8928\n",
            "Epoch 10/10\n",
            "938/938 [==============================] - 13s 14ms/step - loss: 0.1182 - accuracy: 0.9545 - val_loss: 0.4189 - val_accuracy: 0.8881\n"
          ]
        },
        {
          "output_type": "execute_result",
          "data": {
            "text/plain": [
              "<keras.src.callbacks.History at 0x799fbe9a9ae0>"
            ]
          },
          "metadata": {},
          "execution_count": 41
        }
      ]
    }
  ]
}